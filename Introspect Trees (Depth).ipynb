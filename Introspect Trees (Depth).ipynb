{
 "cells": [
  {
   "cell_type": "code",
   "execution_count": 1,
   "metadata": {},
   "outputs": [],
   "source": [
    "%load_ext autoreload\n",
    "%autoreload 1\n",
    "import pandas as pd\n",
    "import os\n",
    "import sys\n",
    "scriptpath = \"binarygridsearch.py\"\n",
    "# Do the import\n",
    "sys.path.append(os.path.abspath(scriptpath))\n",
    "# Do the import\n",
    "import binarygridsearch as bgs\n",
    "%aimport binarygridsearch\n",
    "\n",
    "from sklearn.metrics import roc_auc_score\n",
    "from sklearn.ensemble import RandomForestClassifier\n",
    "from sklearn.model_selection import GridSearchCV\n",
    "from sklearn.model_selection import RandomizedSearchCV\n",
    "\n",
    "import numpy as np\n",
    "\n",
    "from sklearn.datasets import load_breast_cancer\n",
    "from sklearn.tree import _tree\n"
   ]
  },
  {
   "cell_type": "code",
   "execution_count": 2,
   "metadata": {},
   "outputs": [],
   "source": [
    "#From here: https://aysent.github.io/2015/11/08/random-forest-leaf-visualization.html\n",
    "def leaf_depths(tree, node_id = 0):\n",
    "    \n",
    "    '''\n",
    "    tree.children_left and tree.children_right store ids\n",
    "    of left and right chidren of a given node\n",
    "    '''\n",
    "    left_child = tree.children_left[node_id]\n",
    "    right_child = tree.children_right[node_id]\n",
    "\n",
    "    '''\n",
    "    If a given node is terminal, \n",
    "    both left and right children are set to _tree.TREE_LEAF\n",
    "    '''\n",
    "    if left_child == _tree.TREE_LEAF:\n",
    "        \n",
    "        '''\n",
    "        Set depth of terminal nodes to 0\n",
    "        '''\n",
    "        depths = np.array([0])\n",
    "    else:\n",
    "        '''\n",
    "        Get depths of left and right children and\n",
    "        increment them by 1\n",
    "        '''\n",
    "        left_depths = leaf_depths(tree, left_child) + 1\n",
    "        right_depths = leaf_depths(tree, right_child) + 1\n",
    " \n",
    "        depths = np.append(left_depths, right_depths)\n",
    " \n",
    "    return depths"
   ]
  },
  {
   "cell_type": "code",
   "execution_count": 9,
   "metadata": {},
   "outputs": [],
   "source": [
    "def getForestDepths(X, y, kwargs):\n",
    "    clf = RandomForestClassifier(**kwargs)\n",
    "    clf.fit(X, y)\n",
    "    allDepths = [leaf_depths(estimator.tree_) \n",
    "                 for estimator in clf.estimators_]\n",
    "    return {\"min\": np.hstack(allDepths).min(),\n",
    "           \"max\": np.hstack(allDepths).max()}"
   ]
  },
  {
   "cell_type": "code",
   "execution_count": 10,
   "metadata": {},
   "outputs": [],
   "source": [
    "data = load_breast_cancer()\n",
    "X, y = data.data, data.target\n",
    "\n",
    "rfArgs = {\"random_state\": 0,\n",
    "          \"n_jobs\": -1,\n",
    "          \"class_weight\": \"balanced\",\n",
    "         \"n_estimators\": 18,\n",
    "         \"oob_score\": True}"
   ]
  },
  {
   "cell_type": "code",
   "execution_count": 11,
   "metadata": {},
   "outputs": [
    {
     "data": {
      "text/plain": [
       "{'min': 2, 'max': 9}"
      ]
     },
     "execution_count": 11,
     "metadata": {},
     "output_type": "execute_result"
    }
   ],
   "source": [
    "getForestDepths(X, y, rfArgs)"
   ]
  },
  {
   "cell_type": "code",
   "execution_count": 13,
   "metadata": {},
   "outputs": [],
   "source": [
    "def getForestAccuracy(X, y, metric, kwargs):\n",
    "    clf = RandomForestClassifier(**kwargs)\n",
    "    clf.fit(X, y)\n",
    "    y_pred = clf.oob_decision_function_[:, 1]\n",
    "    return metric(y, y_pred)"
   ]
  },
  {
   "cell_type": "code",
   "execution_count": 14,
   "metadata": {},
   "outputs": [
    {
     "data": {
      "text/html": [
       "<div>\n",
       "<style scoped>\n",
       "    .dataframe tbody tr th:only-of-type {\n",
       "        vertical-align: middle;\n",
       "    }\n",
       "\n",
       "    .dataframe tbody tr th {\n",
       "        vertical-align: top;\n",
       "    }\n",
       "\n",
       "    .dataframe thead th {\n",
       "        text-align: right;\n",
       "    }\n",
       "</style>\n",
       "<table border=\"1\" class=\"dataframe\">\n",
       "  <thead>\n",
       "    <tr style=\"text-align: right;\">\n",
       "      <th></th>\n",
       "      <th>max_depth</th>\n",
       "      <th>score</th>\n",
       "      <th>time</th>\n",
       "      <th>scoreTimeRatio</th>\n",
       "    </tr>\n",
       "  </thead>\n",
       "  <tbody>\n",
       "    <tr>\n",
       "      <th>0</th>\n",
       "      <td>2</td>\n",
       "      <td>0.980531</td>\n",
       "      <td>1.037448</td>\n",
       "      <td>0.009858</td>\n",
       "    </tr>\n",
       "    <tr>\n",
       "      <th>1</th>\n",
       "      <td>9</td>\n",
       "      <td>0.750646</td>\n",
       "      <td>0.154658</td>\n",
       "      <td>0.138930</td>\n",
       "    </tr>\n",
       "    <tr>\n",
       "      <th>2</th>\n",
       "      <td>6</td>\n",
       "      <td>1.158169</td>\n",
       "      <td>0.037448</td>\n",
       "      <td>1.000000</td>\n",
       "    </tr>\n",
       "    <tr>\n",
       "      <th>3</th>\n",
       "      <td>4</td>\n",
       "      <td>0.158169</td>\n",
       "      <td>0.244608</td>\n",
       "      <td>0.000000</td>\n",
       "    </tr>\n",
       "  </tbody>\n",
       "</table>\n",
       "</div>"
      ],
      "text/plain": [
       "   max_depth     score      time  scoreTimeRatio\n",
       "0          2  0.980531  1.037448        0.009858\n",
       "1          9  0.750646  0.154658        0.138930\n",
       "2          6  1.158169  0.037448        1.000000\n",
       "3          4  0.158169  0.244608        0.000000"
      ]
     },
     "metadata": {},
     "output_type": "display_data"
    },
    {
     "data": {
      "text/html": [
       "<div>\n",
       "<style scoped>\n",
       "    .dataframe tbody tr th:only-of-type {\n",
       "        vertical-align: middle;\n",
       "    }\n",
       "\n",
       "    .dataframe tbody tr th {\n",
       "        vertical-align: top;\n",
       "    }\n",
       "\n",
       "    .dataframe thead th {\n",
       "        text-align: right;\n",
       "    }\n",
       "</style>\n",
       "<table border=\"1\" class=\"dataframe\">\n",
       "  <thead>\n",
       "    <tr style=\"text-align: right;\">\n",
       "      <th></th>\n",
       "      <th>max_depth</th>\n",
       "      <th>score</th>\n",
       "      <th>time</th>\n",
       "    </tr>\n",
       "  </thead>\n",
       "  <tbody>\n",
       "    <tr>\n",
       "      <th>0</th>\n",
       "      <td>2</td>\n",
       "      <td>0.982189</td>\n",
       "      <td>0.155940</td>\n",
       "    </tr>\n",
       "    <tr>\n",
       "      <th>1</th>\n",
       "      <td>9</td>\n",
       "      <td>0.980736</td>\n",
       "      <td>0.132366</td>\n",
       "    </tr>\n",
       "    <tr>\n",
       "      <th>2</th>\n",
       "      <td>6</td>\n",
       "      <td>0.983312</td>\n",
       "      <td>0.129236</td>\n",
       "    </tr>\n",
       "    <tr>\n",
       "      <th>3</th>\n",
       "      <td>4</td>\n",
       "      <td>0.976990</td>\n",
       "      <td>0.134768</td>\n",
       "    </tr>\n",
       "  </tbody>\n",
       "</table>\n",
       "</div>"
      ],
      "text/plain": [
       "   max_depth     score      time\n",
       "0          2  0.982189  0.155940\n",
       "1          9  0.980736  0.132366\n",
       "2          6  0.983312  0.129236\n",
       "3          4  0.976990  0.134768"
      ]
     },
     "metadata": {},
     "output_type": "display_data"
    },
    {
     "data": {
      "application/vnd.vegalite.v2+json": {
       "$schema": "https://vega.github.io/schema/vega-lite/v2.4.3.json",
       "config": {
        "view": {
         "height": 300,
         "width": 400
        }
       },
       "data": {
        "values": [
         {
          "max_depth": 2,
          "value": 0.9805308254963617,
          "variable": "score"
         },
         {
          "max_depth": 9,
          "value": 0.7506457680250784,
          "variable": "score"
         },
         {
          "max_depth": 6,
          "value": 1.1581692789968638,
          "variable": "score"
         },
         {
          "max_depth": 4,
          "value": 0.15816927899686378,
          "variable": "score"
         },
         {
          "max_depth": 2,
          "value": 1.03744757339741,
          "variable": "time"
         },
         {
          "max_depth": 9,
          "value": 0.15465847809932678,
          "variable": "time"
         },
         {
          "max_depth": 6,
          "value": 0.03744757339741005,
          "variable": "time"
         },
         {
          "max_depth": 4,
          "value": 0.24460754940270013,
          "variable": "time"
         },
         {
          "max_depth": 2,
          "value": 0.009858055207996852,
          "variable": "scoreTimeRatio"
         },
         {
          "max_depth": 9,
          "value": 0.1389296155836436,
          "variable": "scoreTimeRatio"
         },
         {
          "max_depth": 6,
          "value": 1,
          "variable": "scoreTimeRatio"
         },
         {
          "max_depth": 4,
          "value": 0,
          "variable": "scoreTimeRatio"
         }
        ]
       },
       "encoding": {
        "color": {
         "field": "variable",
         "type": "nominal"
        },
        "x": {
         "field": "max_depth",
         "type": "ordinal"
        },
        "y": {
         "field": "value",
         "type": "quantitative"
        }
       },
       "mark": "line",
       "width": 400
      },
      "image/png": "[encoded data removed]",
      "text/plain": [
       "<VegaLite 2 object>\n",
       "\n",
       "If you see this message, it means the renderer has not been properly enabled\n",
       "for the frontend that you are using. For more information, see\n",
       "https://altair-viz.github.io/user_guide/troubleshooting.html\n"
      ]
     },
     "metadata": {},
     "output_type": "display_data"
    }
   ],
   "source": [
    "max_depth = bgs.compareValsBaseCase(X, \n",
    "                    y, \n",
    "                    getForestAccuracy,        \n",
    "                    rfArgs, \n",
    "                    roc_auc_score, \n",
    "                    \"max_depth\", \n",
    "                    0, \n",
    "                    2, \n",
    "                    9)\n",
    "bgs.showTimeScoreChartAndGraph(max_depth)"
   ]
  },
  {
   "cell_type": "code",
   "execution_count": null,
   "metadata": {},
   "outputs": [],
   "source": []
  }
 ],
 "metadata": {
  "kernelspec": {
   "display_name": "Python [conda env:py36]",
   "language": "python",
   "name": "conda-env-py36-py"
  },
  "language_info": {
   "codemirror_mode": {
    "name": "ipython",
    "version": 3
   },
   "file_extension": ".py",
   "mimetype": "text/x-python",
   "name": "python",
   "nbconvert_exporter": "python",
   "pygments_lexer": "ipython3",
   "version": "3.6.5"
  }
 },
 "nbformat": 4,
 "nbformat_minor": 2
}
