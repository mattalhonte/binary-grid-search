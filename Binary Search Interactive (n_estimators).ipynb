{
 "cells": [
  {
   "cell_type": "code",
   "execution_count": 1,
   "metadata": {},
   "outputs": [],
   "source": [
    "%load_ext autoreload\n",
    "%autoreload 1\n",
    "\n",
    "import pandas as pd\n",
    "import binarygridsearch.binarygridsearch as bgs\n",
    "%aimport binarygridsearch.binarygridsearch"
   ]
  },
  {
   "cell_type": "code",
   "execution_count": 2,
   "metadata": {},
   "outputs": [],
   "source": [
    "from sklearn.metrics import precision_recall_curve\n",
    "from sklearn.metrics import auc\n",
    "from sklearn.ensemble import RandomForestClassifier\n",
    "from sklearn.model_selection import GridSearchCV\n",
    "from sklearn.model_selection import RandomizedSearchCV"
   ]
  },
  {
   "cell_type": "code",
   "execution_count": 3,
   "metadata": {},
   "outputs": [],
   "source": [
    "#Define a function that just returns accuracy\n",
    "def getForestAccuracy(X, y, kwargs):\n",
    "    clf = RandomForestClassifier(**kwargs)\n",
    "    clf.fit(X, y)\n",
    "    y_pred = clf.oob_decision_function_[:, 1]\n",
    "    precision, recall, _ = precision_recall_curve(y, y_pred)\n",
    "    return auc(recall, precision)"
   ]
  },
  {
   "cell_type": "code",
   "execution_count": 4,
   "metadata": {},
   "outputs": [],
   "source": [
    "from sklearn.datasets import load_breast_cancer\n",
    "data = load_breast_cancer()\n",
    "X, y = data.data, data.target"
   ]
  },
  {
   "cell_type": "code",
   "execution_count": 5,
   "metadata": {},
   "outputs": [],
   "source": [
    "rfArgs = {\"random_state\": 0,\n",
    "          \"n_jobs\": -1,\n",
    "          \"class_weight\": \"balanced\",\n",
    "         \"oob_score\": True}"
   ]
  },
  {
   "cell_type": "code",
   "execution_count": 6,
   "metadata": {},
   "outputs": [],
   "source": [
    "n_estimators = bgs.compareValsBaseCase(X, \n",
    "                    y, \n",
    "                    getForestAccuracy,        \n",
    "                    rfArgs, \n",
    "                    \"n_estimators\", \n",
    "                    0, \n",
    "                    32, \n",
    "                    128)"
   ]
  },
  {
   "cell_type": "code",
   "execution_count": 7,
   "metadata": {},
   "outputs": [
    {
     "data": {
      "text/html": [
       "<div>\n",
       "<style scoped>\n",
       "    .dataframe tbody tr th:only-of-type {\n",
       "        vertical-align: middle;\n",
       "    }\n",
       "\n",
       "    .dataframe tbody tr th {\n",
       "        vertical-align: top;\n",
       "    }\n",
       "\n",
       "    .dataframe thead th {\n",
       "        text-align: right;\n",
       "    }\n",
       "</style>\n",
       "<table border=\"1\" class=\"dataframe\">\n",
       "  <thead>\n",
       "    <tr style=\"text-align: right;\">\n",
       "      <th></th>\n",
       "      <th>n_estimators</th>\n",
       "      <th>score</th>\n",
       "      <th>time</th>\n",
       "      <th>scoreTimeRatio</th>\n",
       "    </tr>\n",
       "  </thead>\n",
       "  <tbody>\n",
       "    <tr>\n",
       "      <th>0</th>\n",
       "      <td>32</td>\n",
       "      <td>2.542509</td>\n",
       "      <td>0.003529</td>\n",
       "      <td>1.000000</td>\n",
       "    </tr>\n",
       "    <tr>\n",
       "      <th>1</th>\n",
       "      <td>128</td>\n",
       "      <td>1.774372</td>\n",
       "      <td>1.003529</td>\n",
       "      <td>0.000000</td>\n",
       "    </tr>\n",
       "    <tr>\n",
       "      <th>2</th>\n",
       "      <td>80</td>\n",
       "      <td>2.669479</td>\n",
       "      <td>0.658506</td>\n",
       "      <td>0.003180</td>\n",
       "    </tr>\n",
       "    <tr>\n",
       "      <th>3</th>\n",
       "      <td>56</td>\n",
       "      <td>2.363494</td>\n",
       "      <td>0.501373</td>\n",
       "      <td>0.004099</td>\n",
       "    </tr>\n",
       "    <tr>\n",
       "      <th>4</th>\n",
       "      <td>68</td>\n",
       "      <td>2.615561</td>\n",
       "      <td>0.231574</td>\n",
       "      <td>0.013254</td>\n",
       "    </tr>\n",
       "    <tr>\n",
       "      <th>5</th>\n",
       "      <td>74</td>\n",
       "      <td>2.774372</td>\n",
       "      <td>0.695100</td>\n",
       "      <td>0.003093</td>\n",
       "    </tr>\n",
       "    <tr>\n",
       "      <th>6</th>\n",
       "      <td>77</td>\n",
       "      <td>2.753522</td>\n",
       "      <td>0.646641</td>\n",
       "      <td>0.003464</td>\n",
       "    </tr>\n",
       "    <tr>\n",
       "      <th>7</th>\n",
       "      <td>76</td>\n",
       "      <td>2.711664</td>\n",
       "      <td>0.666347</td>\n",
       "      <td>0.003202</td>\n",
       "    </tr>\n",
       "  </tbody>\n",
       "</table>\n",
       "</div>"
      ],
      "text/plain": [
       "   n_estimators     score      time  scoreTimeRatio\n",
       "0            32  2.542509  0.003529        1.000000\n",
       "1           128  1.774372  1.003529        0.000000\n",
       "2            80  2.669479  0.658506        0.003180\n",
       "3            56  2.363494  0.501373        0.004099\n",
       "4            68  2.615561  0.231574        0.013254\n",
       "5            74  2.774372  0.695100        0.003093\n",
       "6            77  2.753522  0.646641        0.003464\n",
       "7            76  2.711664  0.666347        0.003202"
      ]
     },
     "metadata": {},
     "output_type": "display_data"
    },
    {
     "data": {
      "text/html": [
       "<div>\n",
       "<style scoped>\n",
       "    .dataframe tbody tr th:only-of-type {\n",
       "        vertical-align: middle;\n",
       "    }\n",
       "\n",
       "    .dataframe tbody tr th {\n",
       "        vertical-align: top;\n",
       "    }\n",
       "\n",
       "    .dataframe thead th {\n",
       "        text-align: right;\n",
       "    }\n",
       "</style>\n",
       "<table border=\"1\" class=\"dataframe\">\n",
       "  <thead>\n",
       "    <tr style=\"text-align: right;\">\n",
       "      <th></th>\n",
       "      <th>n_estimators</th>\n",
       "      <th>score</th>\n",
       "      <th>time</th>\n",
       "    </tr>\n",
       "  </thead>\n",
       "  <tbody>\n",
       "    <tr>\n",
       "      <th>0</th>\n",
       "      <td>32</td>\n",
       "      <td>0.992455</td>\n",
       "      <td>0.170139</td>\n",
       "    </tr>\n",
       "    <tr>\n",
       "      <th>1</th>\n",
       "      <td>128</td>\n",
       "      <td>0.992022</td>\n",
       "      <td>0.453528</td>\n",
       "    </tr>\n",
       "    <tr>\n",
       "      <th>2</th>\n",
       "      <td>80</td>\n",
       "      <td>0.992526</td>\n",
       "      <td>0.355752</td>\n",
       "    </tr>\n",
       "    <tr>\n",
       "      <th>3</th>\n",
       "      <td>56</td>\n",
       "      <td>0.992354</td>\n",
       "      <td>0.311222</td>\n",
       "    </tr>\n",
       "    <tr>\n",
       "      <th>4</th>\n",
       "      <td>68</td>\n",
       "      <td>0.992496</td>\n",
       "      <td>0.234764</td>\n",
       "    </tr>\n",
       "    <tr>\n",
       "      <th>5</th>\n",
       "      <td>74</td>\n",
       "      <td>0.992586</td>\n",
       "      <td>0.366122</td>\n",
       "    </tr>\n",
       "    <tr>\n",
       "      <th>6</th>\n",
       "      <td>77</td>\n",
       "      <td>0.992574</td>\n",
       "      <td>0.352390</td>\n",
       "    </tr>\n",
       "    <tr>\n",
       "      <th>7</th>\n",
       "      <td>76</td>\n",
       "      <td>0.992550</td>\n",
       "      <td>0.357974</td>\n",
       "    </tr>\n",
       "  </tbody>\n",
       "</table>\n",
       "</div>"
      ],
      "text/plain": [
       "   n_estimators     score      time\n",
       "0            32  0.992455  0.170139\n",
       "1           128  0.992022  0.453528\n",
       "2            80  0.992526  0.355752\n",
       "3            56  0.992354  0.311222\n",
       "4            68  0.992496  0.234764\n",
       "5            74  0.992586  0.366122\n",
       "6            77  0.992574  0.352390\n",
       "7            76  0.992550  0.357974"
      ]
     },
     "metadata": {},
     "output_type": "display_data"
    },
    {
     "data": {
      "application/vnd.vegalite.v2+json": {
       "$schema": "https://vega.github.io/schema/vega-lite/v2.6.0.json",
       "config": {
        "view": {
         "height": 300,
         "width": 400
        }
       },
       "data": {
        "name": "data-23510dc509709f1169f6a069ea3f4681"
       },
       "datasets": {
        "data-23510dc509709f1169f6a069ea3f4681": [
         {
          "n_estimators": 32,
          "value": 2.5425093771775846,
          "variable": "score"
         },
         {
          "n_estimators": 128,
          "value": 1.7743716090351553,
          "variable": "score"
         },
         {
          "n_estimators": 80,
          "value": 2.669479381654439,
          "variable": "score"
         },
         {
          "n_estimators": 56,
          "value": 2.3634937430038296,
          "variable": "score"
         },
         {
          "n_estimators": 68,
          "value": 2.6155614232433,
          "variable": "score"
         },
         {
          "n_estimators": 74,
          "value": 2.7743716090351556,
          "variable": "score"
         },
         {
          "n_estimators": 77,
          "value": 2.7535215361921654,
          "variable": "score"
         },
         {
          "n_estimators": 76,
          "value": 2.711663585425152,
          "variable": "score"
         },
         {
          "n_estimators": 32,
          "value": 0.003528720612137043,
          "variable": "time"
         },
         {
          "n_estimators": 128,
          "value": 1.003528720612137,
          "variable": "time"
         },
         {
          "n_estimators": 80,
          "value": 0.6585062333709829,
          "variable": "time"
         },
         {
          "n_estimators": 56,
          "value": 0.5013734019085224,
          "variable": "time"
         },
         {
          "n_estimators": 68,
          "value": 0.2315740093542618,
          "variable": "time"
         },
         {
          "n_estimators": 74,
          "value": 0.6951001926400351,
          "variable": "time"
         },
         {
          "n_estimators": 77,
          "value": 0.6466414472514899,
          "variable": "time"
         },
         {
          "n_estimators": 76,
          "value": 0.6663474997106961,
          "variable": "time"
         },
         {
          "n_estimators": 32,
          "value": 1,
          "variable": "scoreTimeRatio"
         },
         {
          "n_estimators": 128,
          "value": 0,
          "variable": "scoreTimeRatio"
         },
         {
          "n_estimators": 80,
          "value": 0.0031801132218271244,
          "variable": "scoreTimeRatio"
         },
         {
          "n_estimators": 56,
          "value": 0.004098649093268161,
          "variable": "scoreTimeRatio"
         },
         {
          "n_estimators": 68,
          "value": 0.01325435829474867,
          "variable": "scoreTimeRatio"
         },
         {
          "n_estimators": 74,
          "value": 0.0030931365738651713,
          "variable": "scoreTimeRatio"
         },
         {
          "n_estimators": 77,
          "value": 0.003464423712795639,
          "variable": "scoreTimeRatio"
         },
         {
          "n_estimators": 76,
          "value": 0.003201821597369548,
          "variable": "scoreTimeRatio"
         }
        ]
       },
       "encoding": {
        "color": {
         "field": "variable",
         "type": "nominal"
        },
        "x": {
         "field": "n_estimators",
         "type": "ordinal"
        },
        "y": {
         "field": "value",
         "type": "quantitative"
        }
       },
       "mark": "line",
       "width": 400
      },
      "image/png": "[encoded data removed]",
      "text/plain": [
       "<VegaLite 2 object>\n",
       "\n",
       "If you see this message, it means the renderer has not been properly enabled\n",
       "for the frontend that you are using. For more information, see\n",
       "https://altair-viz.github.io/user_guide/troubleshooting.html\n"
      ]
     },
     "metadata": {},
     "output_type": "display_data"
    }
   ],
   "source": [
    "bgs.showTimeScoreChartAndGraph(n_estimators)"
   ]
  },
  {
   "cell_type": "code",
   "execution_count": 8,
   "metadata": {},
   "outputs": [],
   "source": [
    "n_estimators = bgs.compareValsBaseCase(X, \n",
    "                    y, \n",
    "                    getForestAccuracy,        \n",
    "                    rfArgs, \n",
    "                    \"n_estimators\", \n",
    "                    0, \n",
    "                    68, \n",
    "                    80)"
   ]
  },
  {
   "cell_type": "code",
   "execution_count": 9,
   "metadata": {},
   "outputs": [
    {
     "data": {
      "text/html": [
       "<div>\n",
       "<style scoped>\n",
       "    .dataframe tbody tr th:only-of-type {\n",
       "        vertical-align: middle;\n",
       "    }\n",
       "\n",
       "    .dataframe tbody tr th {\n",
       "        vertical-align: top;\n",
       "    }\n",
       "\n",
       "    .dataframe thead th {\n",
       "        text-align: right;\n",
       "    }\n",
       "</style>\n",
       "<table border=\"1\" class=\"dataframe\">\n",
       "  <thead>\n",
       "    <tr style=\"text-align: right;\">\n",
       "      <th></th>\n",
       "      <th>n_estimators</th>\n",
       "      <th>score</th>\n",
       "      <th>time</th>\n",
       "      <th>scoreTimeRatio</th>\n",
       "    </tr>\n",
       "  </thead>\n",
       "  <tbody>\n",
       "    <tr>\n",
       "      <th>0</th>\n",
       "      <td>68</td>\n",
       "      <td>10.553601</td>\n",
       "      <td>0.103589</td>\n",
       "      <td>0.535025</td>\n",
       "    </tr>\n",
       "    <tr>\n",
       "      <th>1</th>\n",
       "      <td>80</td>\n",
       "      <td>10.872444</td>\n",
       "      <td>0.854601</td>\n",
       "      <td>0.016328</td>\n",
       "    </tr>\n",
       "    <tr>\n",
       "      <th>2</th>\n",
       "      <td>74</td>\n",
       "      <td>11.492723</td>\n",
       "      <td>0.244807</td>\n",
       "      <td>0.215433</td>\n",
       "    </tr>\n",
       "    <tr>\n",
       "      <th>3</th>\n",
       "      <td>71</td>\n",
       "      <td>10.492723</td>\n",
       "      <td>1.058187</td>\n",
       "      <td>0.000000</td>\n",
       "    </tr>\n",
       "    <tr>\n",
       "      <th>4</th>\n",
       "      <td>72</td>\n",
       "      <td>10.578646</td>\n",
       "      <td>0.058187</td>\n",
       "      <td>1.000000</td>\n",
       "    </tr>\n",
       "  </tbody>\n",
       "</table>\n",
       "</div>"
      ],
      "text/plain": [
       "   n_estimators      score      time  scoreTimeRatio\n",
       "0            68  10.553601  0.103589        0.535025\n",
       "1            80  10.872444  0.854601        0.016328\n",
       "2            74  11.492723  0.244807        0.215433\n",
       "3            71  10.492723  1.058187        0.000000\n",
       "4            72  10.578646  0.058187        1.000000"
      ]
     },
     "metadata": {},
     "output_type": "display_data"
    },
    {
     "data": {
      "text/html": [
       "<div>\n",
       "<style scoped>\n",
       "    .dataframe tbody tr th:only-of-type {\n",
       "        vertical-align: middle;\n",
       "    }\n",
       "\n",
       "    .dataframe tbody tr th {\n",
       "        vertical-align: top;\n",
       "    }\n",
       "\n",
       "    .dataframe thead th {\n",
       "        text-align: right;\n",
       "    }\n",
       "</style>\n",
       "<table border=\"1\" class=\"dataframe\">\n",
       "  <thead>\n",
       "    <tr style=\"text-align: right;\">\n",
       "      <th></th>\n",
       "      <th>n_estimators</th>\n",
       "      <th>score</th>\n",
       "      <th>time</th>\n",
       "    </tr>\n",
       "  </thead>\n",
       "  <tbody>\n",
       "    <tr>\n",
       "      <th>0</th>\n",
       "      <td>68</td>\n",
       "      <td>0.992496</td>\n",
       "      <td>0.343677</td>\n",
       "    </tr>\n",
       "    <tr>\n",
       "      <th>1</th>\n",
       "      <td>80</td>\n",
       "      <td>0.992526</td>\n",
       "      <td>0.356584</td>\n",
       "    </tr>\n",
       "    <tr>\n",
       "      <th>2</th>\n",
       "      <td>74</td>\n",
       "      <td>0.992586</td>\n",
       "      <td>0.346104</td>\n",
       "    </tr>\n",
       "    <tr>\n",
       "      <th>3</th>\n",
       "      <td>71</td>\n",
       "      <td>0.992490</td>\n",
       "      <td>0.360083</td>\n",
       "    </tr>\n",
       "    <tr>\n",
       "      <th>4</th>\n",
       "      <td>72</td>\n",
       "      <td>0.992498</td>\n",
       "      <td>0.342897</td>\n",
       "    </tr>\n",
       "  </tbody>\n",
       "</table>\n",
       "</div>"
      ],
      "text/plain": [
       "   n_estimators     score      time\n",
       "0            68  0.992496  0.343677\n",
       "1            80  0.992526  0.356584\n",
       "2            74  0.992586  0.346104\n",
       "3            71  0.992490  0.360083\n",
       "4            72  0.992498  0.342897"
      ]
     },
     "metadata": {},
     "output_type": "display_data"
    },
    {
     "data": {
      "application/vnd.vegalite.v2+json": {
       "$schema": "https://vega.github.io/schema/vega-lite/v2.6.0.json",
       "config": {
        "view": {
         "height": 300,
         "width": 400
        }
       },
       "data": {
        "name": "data-cec47bc9b48ae03497caae2e1a4f0b8c"
       },
       "datasets": {
        "data-cec47bc9b48ae03497caae2e1a4f0b8c": [
         {
          "n_estimators": 68,
          "value": 10.553601051143106,
          "variable": "score"
         },
         {
          "n_estimators": 80,
          "value": 10.872444183159743,
          "variable": "score"
         },
         {
          "n_estimators": 74,
          "value": 11.492722978718875,
          "variable": "score"
         },
         {
          "n_estimators": 71,
          "value": 10.492722978718875,
          "variable": "score"
         },
         {
          "n_estimators": 72,
          "value": 10.578645895171102,
          "variable": "score"
         },
         {
          "n_estimators": 68,
          "value": 0.10358863169285147,
          "variable": "time"
         },
         {
          "n_estimators": 80,
          "value": 0.8546005973165841,
          "variable": "time"
         },
         {
          "n_estimators": 74,
          "value": 0.2448074753012974,
          "variable": "time"
         },
         {
          "n_estimators": 71,
          "value": 1.0581873093419698,
          "variable": "time"
         },
         {
          "n_estimators": 72,
          "value": 0.05818730934196981,
          "variable": "time"
         },
         {
          "n_estimators": 68,
          "value": 0.5350251083932749,
          "variable": "scoreTimeRatio"
         },
         {
          "n_estimators": 80,
          "value": 0.01632753345964927,
          "variable": "scoreTimeRatio"
         },
         {
          "n_estimators": 74,
          "value": 0.21543275692933048,
          "variable": "scoreTimeRatio"
         },
         {
          "n_estimators": 71,
          "value": 0,
          "variable": "scoreTimeRatio"
         },
         {
          "n_estimators": 72,
          "value": 1,
          "variable": "scoreTimeRatio"
         }
        ]
       },
       "encoding": {
        "color": {
         "field": "variable",
         "type": "nominal"
        },
        "x": {
         "field": "n_estimators",
         "type": "ordinal"
        },
        "y": {
         "field": "value",
         "type": "quantitative"
        }
       },
       "mark": "line",
       "width": 400
      },
      "image/png": "[encoded data removed]",
      "text/plain": [
       "<VegaLite 2 object>\n",
       "\n",
       "If you see this message, it means the renderer has not been properly enabled\n",
       "for the frontend that you are using. For more information, see\n",
       "https://altair-viz.github.io/user_guide/troubleshooting.html\n"
      ]
     },
     "metadata": {},
     "output_type": "display_data"
    }
   ],
   "source": [
    "bgs.showTimeScoreChartAndGraph(n_estimators)"
   ]
  },
  {
   "cell_type": "code",
   "execution_count": null,
   "metadata": {},
   "outputs": [],
   "source": []
  }
 ],
 "metadata": {
  "kernelspec": {
   "display_name": "Python [conda env:py36]",
   "language": "python",
   "name": "conda-env-py36-py"
  },
  "language_info": {
   "codemirror_mode": {
    "name": "ipython",
    "version": 3
   },
   "file_extension": ".py",
   "mimetype": "text/x-python",
   "name": "python",
   "nbconvert_exporter": "python",
   "pygments_lexer": "ipython3",
   "version": "3.6.4"
  }
 },
 "nbformat": 4,
 "nbformat_minor": 2
}
