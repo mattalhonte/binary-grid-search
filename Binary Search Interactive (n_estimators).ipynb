{
 "cells": [
  {
   "cell_type": "code",
   "execution_count": 2,
   "metadata": {},
   "outputs": [],
   "source": [
    "%load_ext autoreload\n",
    "%autoreload 1\n",
    "\n",
    "import pandas as pd\n",
    "import os\n",
    "import sys\n",
    "\n",
    "scriptpath = \"binarygridsearch.py\"\n",
    "# Do the import\n",
    "sys.path.append(os.path.abspath(scriptpath))\n",
    "\n",
    "# Do the import\n",
    "import binarygridsearch as bgs\n",
    "%aimport binarygridsearch"
   ]
  },
  {
   "cell_type": "code",
   "execution_count": 3,
   "metadata": {},
   "outputs": [],
   "source": [
    "from sklearn.metrics import roc_auc_score\n",
    "from sklearn.ensemble import RandomForestClassifier\n",
    "from sklearn.model_selection import GridSearchCV\n",
    "from sklearn.model_selection import RandomizedSearchCV"
   ]
  },
  {
   "cell_type": "code",
   "execution_count": 4,
   "metadata": {},
   "outputs": [],
   "source": [
    "#Define a function that just returns accuracy\n",
    "def getForestAccuracy(X, y, metric, kwargs):\n",
    "    clf = RandomForestClassifier(**kwargs)\n",
    "    clf.fit(X, y)\n",
    "    y_pred = clf.oob_decision_function_[:, 1]\n",
    "    return metric(y, y_pred)"
   ]
  },
  {
   "cell_type": "code",
   "execution_count": 5,
   "metadata": {},
   "outputs": [],
   "source": [
    "from sklearn.datasets import load_breast_cancer\n",
    "data = load_breast_cancer()\n",
    "X, y = data.data, data.target"
   ]
  },
  {
   "cell_type": "code",
   "execution_count": 6,
   "metadata": {},
   "outputs": [],
   "source": [
    "rfArgs = {\"random_state\": 0,\n",
    "          \"n_jobs\": -1,\n",
    "          \"class_weight\": \"balanced\",\n",
    "         \"oob_score\": True}"
   ]
  },
  {
   "cell_type": "code",
   "execution_count": 7,
   "metadata": {},
   "outputs": [],
   "source": [
    "n_estimators = bgs.compareValsBaseCase(X, \n",
    "                    y, \n",
    "                    getForestAccuracy,        \n",
    "                    rfArgs, \n",
    "                    roc_auc_score, \n",
    "                    \"n_estimators\", \n",
    "                    0, \n",
    "                    32, \n",
    "                    128)"
   ]
  },
  {
   "cell_type": "code",
   "execution_count": 8,
   "metadata": {},
   "outputs": [
    {
     "data": {
      "text/html": [
       "<div>\n",
       "<style scoped>\n",
       "    .dataframe tbody tr th:only-of-type {\n",
       "        vertical-align: middle;\n",
       "    }\n",
       "\n",
       "    .dataframe tbody tr th {\n",
       "        vertical-align: top;\n",
       "    }\n",
       "\n",
       "    .dataframe thead th {\n",
       "        text-align: right;\n",
       "    }\n",
       "</style>\n",
       "<table border=\"1\" class=\"dataframe\">\n",
       "  <thead>\n",
       "    <tr style=\"text-align: right;\">\n",
       "      <th></th>\n",
       "      <th>n_estimators</th>\n",
       "      <th>score</th>\n",
       "      <th>time</th>\n",
       "      <th>scoreTimeRatio</th>\n",
       "    </tr>\n",
       "  </thead>\n",
       "  <tbody>\n",
       "    <tr>\n",
       "      <th>0</th>\n",
       "      <td>32</td>\n",
       "      <td>1.073532</td>\n",
       "      <td>0.002697</td>\n",
       "      <td>1.000000</td>\n",
       "    </tr>\n",
       "    <tr>\n",
       "      <th>1</th>\n",
       "      <td>128</td>\n",
       "      <td>1.867858</td>\n",
       "      <td>1.002697</td>\n",
       "      <td>0.000000</td>\n",
       "    </tr>\n",
       "    <tr>\n",
       "      <th>2</th>\n",
       "      <td>80</td>\n",
       "      <td>2.052255</td>\n",
       "      <td>0.482944</td>\n",
       "      <td>0.006025</td>\n",
       "    </tr>\n",
       "    <tr>\n",
       "      <th>3</th>\n",
       "      <td>56</td>\n",
       "      <td>1.605447</td>\n",
       "      <td>0.098106</td>\n",
       "      <td>0.036607</td>\n",
       "    </tr>\n",
       "    <tr>\n",
       "      <th>4</th>\n",
       "      <td>68</td>\n",
       "      <td>1.910411</td>\n",
       "      <td>0.429002</td>\n",
       "      <td>0.006539</td>\n",
       "    </tr>\n",
       "    <tr>\n",
       "      <th>5</th>\n",
       "      <td>74</td>\n",
       "      <td>2.066440</td>\n",
       "      <td>0.467704</td>\n",
       "      <td>0.006451</td>\n",
       "    </tr>\n",
       "    <tr>\n",
       "      <th>6</th>\n",
       "      <td>77</td>\n",
       "      <td>2.066440</td>\n",
       "      <td>0.474240</td>\n",
       "      <td>0.006297</td>\n",
       "    </tr>\n",
       "    <tr>\n",
       "      <th>7</th>\n",
       "      <td>75</td>\n",
       "      <td>2.073532</td>\n",
       "      <td>0.462319</td>\n",
       "      <td>0.006619</td>\n",
       "    </tr>\n",
       "  </tbody>\n",
       "</table>\n",
       "</div>"
      ],
      "text/plain": [
       "   n_estimators     score      time  scoreTimeRatio\n",
       "0            32  1.073532  0.002697        1.000000\n",
       "1           128  1.867858  1.002697        0.000000\n",
       "2            80  2.052255  0.482944        0.006025\n",
       "3            56  1.605447  0.098106        0.036607\n",
       "4            68  1.910411  0.429002        0.006539\n",
       "5            74  2.066440  0.467704        0.006451\n",
       "6            77  2.066440  0.474240        0.006297\n",
       "7            75  2.073532  0.462319        0.006619"
      ]
     },
     "metadata": {},
     "output_type": "display_data"
    },
    {
     "data": {
      "text/html": [
       "<div>\n",
       "<style scoped>\n",
       "    .dataframe tbody tr th:only-of-type {\n",
       "        vertical-align: middle;\n",
       "    }\n",
       "\n",
       "    .dataframe tbody tr th {\n",
       "        vertical-align: top;\n",
       "    }\n",
       "\n",
       "    .dataframe thead th {\n",
       "        text-align: right;\n",
       "    }\n",
       "</style>\n",
       "<table border=\"1\" class=\"dataframe\">\n",
       "  <thead>\n",
       "    <tr style=\"text-align: right;\">\n",
       "      <th></th>\n",
       "      <th>n_estimators</th>\n",
       "      <th>score</th>\n",
       "      <th>time</th>\n",
       "    </tr>\n",
       "  </thead>\n",
       "  <tbody>\n",
       "    <tr>\n",
       "      <th>0</th>\n",
       "      <td>32</td>\n",
       "      <td>0.988663</td>\n",
       "      <td>0.173357</td>\n",
       "    </tr>\n",
       "    <tr>\n",
       "      <th>1</th>\n",
       "      <td>128</td>\n",
       "      <td>0.989403</td>\n",
       "      <td>0.544099</td>\n",
       "    </tr>\n",
       "    <tr>\n",
       "      <th>2</th>\n",
       "      <td>80</td>\n",
       "      <td>0.989575</td>\n",
       "      <td>0.351405</td>\n",
       "    </tr>\n",
       "    <tr>\n",
       "      <th>3</th>\n",
       "      <td>56</td>\n",
       "      <td>0.989159</td>\n",
       "      <td>0.208730</td>\n",
       "    </tr>\n",
       "    <tr>\n",
       "      <th>4</th>\n",
       "      <td>68</td>\n",
       "      <td>0.989443</td>\n",
       "      <td>0.331406</td>\n",
       "    </tr>\n",
       "    <tr>\n",
       "      <th>5</th>\n",
       "      <td>74</td>\n",
       "      <td>0.989588</td>\n",
       "      <td>0.345755</td>\n",
       "    </tr>\n",
       "    <tr>\n",
       "      <th>6</th>\n",
       "      <td>77</td>\n",
       "      <td>0.989588</td>\n",
       "      <td>0.348178</td>\n",
       "    </tr>\n",
       "    <tr>\n",
       "      <th>7</th>\n",
       "      <td>75</td>\n",
       "      <td>0.989595</td>\n",
       "      <td>0.343758</td>\n",
       "    </tr>\n",
       "  </tbody>\n",
       "</table>\n",
       "</div>"
      ],
      "text/plain": [
       "   n_estimators     score      time\n",
       "0            32  0.988663  0.173357\n",
       "1           128  0.989403  0.544099\n",
       "2            80  0.989575  0.351405\n",
       "3            56  0.989159  0.208730\n",
       "4            68  0.989443  0.331406\n",
       "5            74  0.989588  0.345755\n",
       "6            77  0.989588  0.348178\n",
       "7            75  0.989595  0.343758"
      ]
     },
     "metadata": {},
     "output_type": "display_data"
    },
    {
     "data": {
      "application/vnd.vegalite.v2+json": {
       "$schema": "https://vega.github.io/schema/vega-lite/v2.6.0.json",
       "config": {
        "view": {
         "height": 300,
         "width": 400
        }
       },
       "data": {
        "name": "data-0e991c4e818d58e02d38bf610df0befb"
       },
       "datasets": {
        "data-0e991c4e818d58e02d38bf610df0befb": [
         {
          "n_estimators": 32,
          "value": 1.0735319148935316,
          "variable": "score"
         },
         {
          "n_estimators": 128,
          "value": 1.8678581560281498,
          "variable": "score"
         },
         {
          "n_estimators": 80,
          "value": 2.0522553191486477,
          "variable": "score"
         },
         {
          "n_estimators": 56,
          "value": 1.6054468085104996,
          "variable": "score"
         },
         {
          "n_estimators": 68,
          "value": 1.9104113475175597,
          "variable": "score"
         },
         {
          "n_estimators": 74,
          "value": 2.0664397163117445,
          "variable": "score"
         },
         {
          "n_estimators": 77,
          "value": 2.066439716311983,
          "variable": "score"
         },
         {
          "n_estimators": 75,
          "value": 2.0735319148935316,
          "variable": "score"
         },
         {
          "n_estimators": 32,
          "value": 0.0026972973864141086,
          "variable": "time"
         },
         {
          "n_estimators": 128,
          "value": 1.002697297386414,
          "variable": "time"
         },
         {
          "n_estimators": 80,
          "value": 0.4829439244622565,
          "variable": "time"
         },
         {
          "n_estimators": 56,
          "value": 0.0981063535061841,
          "variable": "time"
         },
         {
          "n_estimators": 68,
          "value": 0.42900171838808643,
          "variable": "time"
         },
         {
          "n_estimators": 74,
          "value": 0.4677035079499461,
          "variable": "time"
         },
         {
          "n_estimators": 77,
          "value": 0.474239769324316,
          "variable": "time"
         },
         {
          "n_estimators": 75,
          "value": 0.46231919664173154,
          "variable": "time"
         },
         {
          "n_estimators": 32,
          "value": 1,
          "variable": "scoreTimeRatio"
         },
         {
          "n_estimators": 128,
          "value": 0,
          "variable": "scoreTimeRatio"
         },
         {
          "n_estimators": 80,
          "value": 0.0060247281991918375,
          "variable": "scoreTimeRatio"
         },
         {
          "n_estimators": 56,
          "value": 0.036607054820274224,
          "variable": "scoreTimeRatio"
         },
         {
          "n_estimators": 68,
          "value": 0.006538905790082375,
          "variable": "scoreTimeRatio"
         },
         {
          "n_estimators": 74,
          "value": 0.006450838731461165,
          "variable": "scoreTimeRatio"
         },
         {
          "n_estimators": 77,
          "value": 0.006297117133183476,
          "variable": "scoreTimeRatio"
         },
         {
          "n_estimators": 75,
          "value": 0.006619458407259002,
          "variable": "scoreTimeRatio"
         }
        ]
       },
       "encoding": {
        "color": {
         "field": "variable",
         "type": "nominal"
        },
        "x": {
         "field": "n_estimators",
         "type": "ordinal"
        },
        "y": {
         "field": "value",
         "type": "quantitative"
        }
       },
       "mark": "line",
       "width": 400
      },
      "image/png": "[encoded data removed]",
      "text/plain": [
       "<VegaLite 2 object>\n",
       "\n",
       "If you see this message, it means the renderer has not been properly enabled\n",
       "for the frontend that you are using. For more information, see\n",
       "https://altair-viz.github.io/user_guide/troubleshooting.html\n"
      ]
     },
     "metadata": {},
     "output_type": "display_data"
    }
   ],
   "source": [
    "bgs.showTimeScoreChartAndGraph(n_estimators)"
   ]
  },
  {
   "cell_type": "code",
   "execution_count": 9,
   "metadata": {},
   "outputs": [
    {
     "data": {
      "text/html": [
       "<div>\n",
       "<style scoped>\n",
       "    .dataframe tbody tr th:only-of-type {\n",
       "        vertical-align: middle;\n",
       "    }\n",
       "\n",
       "    .dataframe tbody tr th {\n",
       "        vertical-align: top;\n",
       "    }\n",
       "\n",
       "    .dataframe thead th {\n",
       "        text-align: right;\n",
       "    }\n",
       "</style>\n",
       "<table border=\"1\" class=\"dataframe\">\n",
       "  <thead>\n",
       "    <tr style=\"text-align: right;\">\n",
       "      <th></th>\n",
       "      <th>n_estimators</th>\n",
       "      <th>score</th>\n",
       "      <th>time</th>\n",
       "      <th>scoreTimeRatio</th>\n",
       "    </tr>\n",
       "  </thead>\n",
       "  <tbody>\n",
       "    <tr>\n",
       "      <th>0</th>\n",
       "      <td>68</td>\n",
       "      <td>6.390333</td>\n",
       "      <td>0.799277</td>\n",
       "      <td>0.010468</td>\n",
       "    </tr>\n",
       "    <tr>\n",
       "      <th>1</th>\n",
       "      <td>80</td>\n",
       "      <td>7.223667</td>\n",
       "      <td>1.054879</td>\n",
       "      <td>0.000000</td>\n",
       "    </tr>\n",
       "    <tr>\n",
       "      <th>2</th>\n",
       "      <td>74</td>\n",
       "      <td>7.307000</td>\n",
       "      <td>0.264215</td>\n",
       "      <td>0.189858</td>\n",
       "    </tr>\n",
       "    <tr>\n",
       "      <th>3</th>\n",
       "      <td>71</td>\n",
       "      <td>6.307000</td>\n",
       "      <td>0.835091</td>\n",
       "      <td>0.006429</td>\n",
       "    </tr>\n",
       "    <tr>\n",
       "      <th>4</th>\n",
       "      <td>72</td>\n",
       "      <td>6.390333</td>\n",
       "      <td>0.054879</td>\n",
       "      <td>1.000000</td>\n",
       "    </tr>\n",
       "  </tbody>\n",
       "</table>\n",
       "</div>"
      ],
      "text/plain": [
       "   n_estimators     score      time  scoreTimeRatio\n",
       "0            68  6.390333  0.799277        0.010468\n",
       "1            80  7.223667  1.054879        0.000000\n",
       "2            74  7.307000  0.264215        0.189858\n",
       "3            71  6.307000  0.835091        0.006429\n",
       "4            72  6.390333  0.054879        1.000000"
      ]
     },
     "metadata": {},
     "output_type": "display_data"
    },
    {
     "data": {
      "text/html": [
       "<div>\n",
       "<style scoped>\n",
       "    .dataframe tbody tr th:only-of-type {\n",
       "        vertical-align: middle;\n",
       "    }\n",
       "\n",
       "    .dataframe tbody tr th {\n",
       "        vertical-align: top;\n",
       "    }\n",
       "\n",
       "    .dataframe thead th {\n",
       "        text-align: right;\n",
       "    }\n",
       "</style>\n",
       "<table border=\"1\" class=\"dataframe\">\n",
       "  <thead>\n",
       "    <tr style=\"text-align: right;\">\n",
       "      <th></th>\n",
       "      <th>n_estimators</th>\n",
       "      <th>score</th>\n",
       "      <th>time</th>\n",
       "    </tr>\n",
       "  </thead>\n",
       "  <tbody>\n",
       "    <tr>\n",
       "      <th>0</th>\n",
       "      <td>68</td>\n",
       "      <td>0.989443</td>\n",
       "      <td>0.351295</td>\n",
       "    </tr>\n",
       "    <tr>\n",
       "      <th>1</th>\n",
       "      <td>80</td>\n",
       "      <td>0.989575</td>\n",
       "      <td>0.355952</td>\n",
       "    </tr>\n",
       "    <tr>\n",
       "      <th>2</th>\n",
       "      <td>74</td>\n",
       "      <td>0.989588</td>\n",
       "      <td>0.341545</td>\n",
       "    </tr>\n",
       "    <tr>\n",
       "      <th>3</th>\n",
       "      <td>71</td>\n",
       "      <td>0.989430</td>\n",
       "      <td>0.351947</td>\n",
       "    </tr>\n",
       "    <tr>\n",
       "      <th>4</th>\n",
       "      <td>72</td>\n",
       "      <td>0.989443</td>\n",
       "      <td>0.337730</td>\n",
       "    </tr>\n",
       "  </tbody>\n",
       "</table>\n",
       "</div>"
      ],
      "text/plain": [
       "   n_estimators     score      time\n",
       "0            68  0.989443  0.351295\n",
       "1            80  0.989575  0.355952\n",
       "2            74  0.989588  0.341545\n",
       "3            71  0.989430  0.351947\n",
       "4            72  0.989443  0.337730"
      ]
     },
     "metadata": {},
     "output_type": "display_data"
    },
    {
     "data": {
      "application/vnd.vegalite.v2+json": {
       "$schema": "https://vega.github.io/schema/vega-lite/v2.6.0.json",
       "config": {
        "view": {
         "height": 300,
         "width": 400
        }
       },
       "data": {
        "name": "data-98c28f0fa3e5baec2906a19b09b09be0"
       },
       "datasets": {
        "data-98c28f0fa3e5baec2906a19b09b09be0": [
         {
          "n_estimators": 68,
          "value": 6.390333333342655,
          "variable": "score"
         },
         {
          "n_estimators": 80,
          "value": 7.223666666676689,
          "variable": "score"
         },
         {
          "n_estimators": 74,
          "value": 7.307000000010022,
          "variable": "score"
         },
         {
          "n_estimators": 71,
          "value": 6.307000000010022,
          "variable": "score"
         },
         {
          "n_estimators": 72,
          "value": 6.390333333342655,
          "variable": "score"
         },
         {
          "n_estimators": 68,
          "value": 0.7992774516551466,
          "variable": "time"
         },
         {
          "n_estimators": 80,
          "value": 1.0548791261878387,
          "variable": "time"
         },
         {
          "n_estimators": 74,
          "value": 0.26421505789402183,
          "variable": "time"
         },
         {
          "n_estimators": 71,
          "value": 0.8350911649019518,
          "variable": "time"
         },
         {
          "n_estimators": 72,
          "value": 0.05487912618783866,
          "variable": "time"
         },
         {
          "n_estimators": 68,
          "value": 0.010468233775042031,
          "variable": "scoreTimeRatio"
         },
         {
          "n_estimators": 80,
          "value": 0,
          "variable": "scoreTimeRatio"
         },
         {
          "n_estimators": 74,
          "value": 0.18985778526994002,
          "variable": "scoreTimeRatio"
         },
         {
          "n_estimators": 71,
          "value": 0.006429133631157124,
          "variable": "scoreTimeRatio"
         },
         {
          "n_estimators": 72,
          "value": 1,
          "variable": "scoreTimeRatio"
         }
        ]
       },
       "encoding": {
        "color": {
         "field": "variable",
         "type": "nominal"
        },
        "x": {
         "field": "n_estimators",
         "type": "ordinal"
        },
        "y": {
         "field": "value",
         "type": "quantitative"
        }
       },
       "mark": "line",
       "width": 400
      },
      "image/png": "[encoded data removed]",
      "text/plain": [
       "<VegaLite 2 object>\n",
       "\n",
       "If you see this message, it means the renderer has not been properly enabled\n",
       "for the frontend that you are using. For more information, see\n",
       "https://altair-viz.github.io/user_guide/troubleshooting.html\n"
      ]
     },
     "metadata": {},
     "output_type": "display_data"
    }
   ],
   "source": [
    "n_estimators = bgs.compareValsBaseCase(X, \n",
    "                    y, \n",
    "                    getForestAccuracy,        \n",
    "                    rfArgs, \n",
    "                    roc_auc_score, \n",
    "                    \"n_estimators\", \n",
    "                    0, \n",
    "                    68, \n",
    "                    80)\n",
    "\n",
    "bgs.showTimeScoreChartAndGraph(n_estimators)"
   ]
  },
  {
   "cell_type": "code",
   "execution_count": null,
   "metadata": {},
   "outputs": [],
   "source": []
  }
 ],
 "metadata": {
  "kernelspec": {
   "display_name": "Python [conda env:py36]",
   "language": "python",
   "name": "conda-env-py36-py"
  },
  "language_info": {
   "codemirror_mode": {
    "name": "ipython",
    "version": 3
   },
   "file_extension": ".py",
   "mimetype": "text/x-python",
   "name": "python",
   "nbconvert_exporter": "python",
   "pygments_lexer": "ipython3",
   "version": "3.6.4"
  }
 },
 "nbformat": 4,
 "nbformat_minor": 2
}
