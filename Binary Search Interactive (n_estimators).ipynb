{
 "cells": [
  {
   "cell_type": "code",
   "execution_count": 1,
   "metadata": {},
   "outputs": [],
   "source": [
    "%load_ext autoreload\n",
    "%autoreload 1\n",
    "\n",
    "import pandas as pd\n",
    "import os\n",
    "import sys\n",
    "\n",
    "scriptpath = \"binarygridsearch.py\"\n",
    "# Do the import\n",
    "sys.path.append(os.path.abspath(scriptpath))\n",
    "\n",
    "# Do the import\n",
    "import binarygridsearch as bgs\n",
    "%aimport binarygridsearch"
   ]
  },
  {
   "cell_type": "code",
   "execution_count": 2,
   "metadata": {},
   "outputs": [],
   "source": [
    "from sklearn.metrics import roc_auc_score\n",
    "from sklearn.ensemble import RandomForestClassifier\n",
    "from sklearn.model_selection import GridSearchCV\n",
    "from sklearn.model_selection import RandomizedSearchCV"
   ]
  },
  {
   "cell_type": "code",
   "execution_count": 3,
   "metadata": {},
   "outputs": [],
   "source": [
    "#Define a function that just returns accuracy\n",
    "def getForestAccuracy(X, y, metric, kwargs):\n",
    "    clf = RandomForestClassifier(**kwargs)\n",
    "    clf.fit(X, y)\n",
    "    y_pred = clf.oob_decision_function_[:, 1]\n",
    "    return metric(y, y_pred)"
   ]
  },
  {
   "cell_type": "code",
   "execution_count": 4,
   "metadata": {},
   "outputs": [],
   "source": [
    "from sklearn.datasets import load_breast_cancer\n",
    "data = load_breast_cancer()\n",
    "X, y = data.data, data.target"
   ]
  },
  {
   "cell_type": "code",
   "execution_count": 8,
   "metadata": {},
   "outputs": [],
   "source": [
    "rfArgs = {\"random_state\": 0,\n",
    "          \"n_jobs\": -1,\n",
    "          \"class_weight\": \"balanced\",\n",
    "         \"oob_score\": True}"
   ]
  },
  {
   "cell_type": "code",
   "execution_count": 9,
   "metadata": {},
   "outputs": [],
   "source": [
    "n_estimators = bgs.compareValsBaseCase(X, \n",
    "                    y, \n",
    "                    getForestAccuracy,        \n",
    "                    rfArgs, \n",
    "                    roc_auc_score, \n",
    "                    \"n_estimators\", \n",
    "                    0, \n",
    "                    18, \n",
    "                    128)"
   ]
  },
  {
   "cell_type": "code",
   "execution_count": 10,
   "metadata": {},
   "outputs": [
    {
     "data": {
      "text/html": [
       "<div>\n",
       "<style scoped>\n",
       "    .dataframe tbody tr th:only-of-type {\n",
       "        vertical-align: middle;\n",
       "    }\n",
       "\n",
       "    .dataframe tbody tr th {\n",
       "        vertical-align: top;\n",
       "    }\n",
       "\n",
       "    .dataframe thead th {\n",
       "        text-align: right;\n",
       "    }\n",
       "</style>\n",
       "<table border=\"1\" class=\"dataframe\">\n",
       "  <thead>\n",
       "    <tr style=\"text-align: right;\">\n",
       "      <th></th>\n",
       "      <th>n_estimators</th>\n",
       "      <th>score</th>\n",
       "      <th>time</th>\n",
       "      <th>scoreTimeRatio</th>\n",
       "    </tr>\n",
       "  </thead>\n",
       "  <tbody>\n",
       "    <tr>\n",
       "      <th>0</th>\n",
       "      <td>18</td>\n",
       "      <td>0.114413</td>\n",
       "      <td>0.496218</td>\n",
       "      <td>0.000000</td>\n",
       "    </tr>\n",
       "    <tr>\n",
       "      <th>1</th>\n",
       "      <td>128</td>\n",
       "      <td>1.106098</td>\n",
       "      <td>1.002800</td>\n",
       "      <td>0.002294</td>\n",
       "    </tr>\n",
       "    <tr>\n",
       "      <th>2</th>\n",
       "      <td>73</td>\n",
       "      <td>1.111389</td>\n",
       "      <td>0.432633</td>\n",
       "      <td>0.006149</td>\n",
       "    </tr>\n",
       "    <tr>\n",
       "      <th>3</th>\n",
       "      <td>45</td>\n",
       "      <td>1.065282</td>\n",
       "      <td>0.002800</td>\n",
       "      <td>1.000000</td>\n",
       "    </tr>\n",
       "    <tr>\n",
       "      <th>4</th>\n",
       "      <td>59</td>\n",
       "      <td>1.087202</td>\n",
       "      <td>0.360741</td>\n",
       "      <td>0.007319</td>\n",
       "    </tr>\n",
       "    <tr>\n",
       "      <th>5</th>\n",
       "      <td>66</td>\n",
       "      <td>1.112901</td>\n",
       "      <td>0.400506</td>\n",
       "      <td>0.006701</td>\n",
       "    </tr>\n",
       "    <tr>\n",
       "      <th>6</th>\n",
       "      <td>70</td>\n",
       "      <td>1.114413</td>\n",
       "      <td>0.425162</td>\n",
       "      <td>0.006287</td>\n",
       "    </tr>\n",
       "    <tr>\n",
       "      <th>7</th>\n",
       "      <td>68</td>\n",
       "      <td>1.110633</td>\n",
       "      <td>0.403368</td>\n",
       "      <td>0.006635</td>\n",
       "    </tr>\n",
       "  </tbody>\n",
       "</table>\n",
       "</div>"
      ],
      "text/plain": [
       "   n_estimators     score      time  scoreTimeRatio\n",
       "0            18  0.114413  0.496218        0.000000\n",
       "1           128  1.106098  1.002800        0.002294\n",
       "2            73  1.111389  0.432633        0.006149\n",
       "3            45  1.065282  0.002800        1.000000\n",
       "4            59  1.087202  0.360741        0.007319\n",
       "5            66  1.112901  0.400506        0.006701\n",
       "6            70  1.114413  0.425162        0.006287\n",
       "7            68  1.110633  0.403368        0.006635"
      ]
     },
     "metadata": {},
     "output_type": "display_data"
    },
    {
     "data": {
      "text/html": [
       "<div>\n",
       "<style scoped>\n",
       "    .dataframe tbody tr th:only-of-type {\n",
       "        vertical-align: middle;\n",
       "    }\n",
       "\n",
       "    .dataframe tbody tr th {\n",
       "        vertical-align: top;\n",
       "    }\n",
       "\n",
       "    .dataframe thead th {\n",
       "        text-align: right;\n",
       "    }\n",
       "</style>\n",
       "<table border=\"1\" class=\"dataframe\">\n",
       "  <thead>\n",
       "    <tr style=\"text-align: right;\">\n",
       "      <th></th>\n",
       "      <th>n_estimators</th>\n",
       "      <th>score</th>\n",
       "      <th>time</th>\n",
       "    </tr>\n",
       "  </thead>\n",
       "  <tbody>\n",
       "    <tr>\n",
       "      <th>0</th>\n",
       "      <td>18</td>\n",
       "      <td>0.980736</td>\n",
       "      <td>0.366535</td>\n",
       "    </tr>\n",
       "    <tr>\n",
       "      <th>1</th>\n",
       "      <td>128</td>\n",
       "      <td>0.989403</td>\n",
       "      <td>0.547471</td>\n",
       "    </tr>\n",
       "    <tr>\n",
       "      <th>2</th>\n",
       "      <td>73</td>\n",
       "      <td>0.989450</td>\n",
       "      <td>0.343825</td>\n",
       "    </tr>\n",
       "    <tr>\n",
       "      <th>3</th>\n",
       "      <td>45</td>\n",
       "      <td>0.989047</td>\n",
       "      <td>0.190301</td>\n",
       "    </tr>\n",
       "    <tr>\n",
       "      <th>4</th>\n",
       "      <td>59</td>\n",
       "      <td>0.989238</td>\n",
       "      <td>0.318147</td>\n",
       "    </tr>\n",
       "    <tr>\n",
       "      <th>5</th>\n",
       "      <td>66</td>\n",
       "      <td>0.989463</td>\n",
       "      <td>0.332350</td>\n",
       "    </tr>\n",
       "    <tr>\n",
       "      <th>6</th>\n",
       "      <td>70</td>\n",
       "      <td>0.989476</td>\n",
       "      <td>0.341156</td>\n",
       "    </tr>\n",
       "    <tr>\n",
       "      <th>7</th>\n",
       "      <td>68</td>\n",
       "      <td>0.989443</td>\n",
       "      <td>0.333372</td>\n",
       "    </tr>\n",
       "  </tbody>\n",
       "</table>\n",
       "</div>"
      ],
      "text/plain": [
       "   n_estimators     score      time\n",
       "0            18  0.980736  0.366535\n",
       "1           128  0.989403  0.547471\n",
       "2            73  0.989450  0.343825\n",
       "3            45  0.989047  0.190301\n",
       "4            59  0.989238  0.318147\n",
       "5            66  0.989463  0.332350\n",
       "6            70  0.989476  0.341156\n",
       "7            68  0.989443  0.333372"
      ]
     },
     "metadata": {},
     "output_type": "display_data"
    },
    {
     "data": {
      "application/vnd.vegalite.v2+json": {
       "$schema": "https://vega.github.io/schema/vega-lite/v2.6.0.json",
       "config": {
        "view": {
         "height": 300,
         "width": 400
        }
       },
       "data": {
        "name": "data-1b610b1f5ec852988f9f7ae63758e5b5"
       },
       "datasets": {
        "data-1b610b1f5ec852988f9f7ae63758e5b5": [
         {
          "n_estimators": 18,
          "value": 0.11441269841269855,
          "variable": "score"
         },
         {
          "n_estimators": 128,
          "value": 1.1060982615268338,
          "variable": "score"
         },
         {
          "n_estimators": 73,
          "value": 1.1113892668178433,
          "variable": "score"
         },
         {
          "n_estimators": 45,
          "value": 1.0652819349962228,
          "variable": "score"
         },
         {
          "n_estimators": 59,
          "value": 1.0872018140589494,
          "variable": "score"
         },
         {
          "n_estimators": 66,
          "value": 1.112900982615271,
          "variable": "score"
         },
         {
          "n_estimators": 70,
          "value": 1.1144126984126987,
          "variable": "score"
         },
         {
          "n_estimators": 68,
          "value": 1.1106334089191294,
          "variable": "score"
         },
         {
          "n_estimators": 18,
          "value": 0.4962177505193225,
          "variable": "time"
         },
         {
          "n_estimators": 128,
          "value": 1.0027997821918444,
          "variable": "time"
         },
         {
          "n_estimators": 73,
          "value": 0.43263302376963036,
          "variable": "time"
         },
         {
          "n_estimators": 45,
          "value": 0.0027997821918444897,
          "variable": "time"
         },
         {
          "n_estimators": 59,
          "value": 0.3607408321653046,
          "variable": "time"
         },
         {
          "n_estimators": 66,
          "value": 0.400506191760575,
          "variable": "time"
         },
         {
          "n_estimators": 70,
          "value": 0.4251620724090047,
          "variable": "time"
         },
         {
          "n_estimators": 68,
          "value": 0.4033675127235685,
          "variable": "time"
         },
         {
          "n_estimators": 18,
          "value": 0,
          "variable": "scoreTimeRatio"
         },
         {
          "n_estimators": 128,
          "value": 0.0022943452726855657,
          "variable": "scoreTimeRatio"
         },
         {
          "n_estimators": 73,
          "value": 0.006149334163626108,
          "variable": "scoreTimeRatio"
         },
         {
          "n_estimators": 45,
          "value": 1,
          "variable": "scoreTimeRatio"
         },
         {
          "n_estimators": 59,
          "value": 0.007319351131465792,
          "variable": "scoreTimeRatio"
         },
         {
          "n_estimators": 66,
          "value": 0.00670117159802216,
          "variable": "scoreTimeRatio"
         },
         {
          "n_estimators": 70,
          "value": 0.006286746297860703,
          "variable": "scoreTimeRatio"
         },
         {
          "n_estimators": 68,
          "value": 0.006634551361739724,
          "variable": "scoreTimeRatio"
         }
        ]
       },
       "encoding": {
        "color": {
         "field": "variable",
         "type": "nominal"
        },
        "x": {
         "field": "n_estimators",
         "type": "ordinal"
        },
        "y": {
         "field": "value",
         "type": "quantitative"
        }
       },
       "mark": "line",
       "width": 400
      },
      "image/png": "[encoded data removed]",
      "text/plain": [
       "<VegaLite 2 object>\n",
       "\n",
       "If you see this message, it means the renderer has not been properly enabled\n",
       "for the frontend that you are using. For more information, see\n",
       "https://altair-viz.github.io/user_guide/troubleshooting.html\n"
      ]
     },
     "metadata": {},
     "output_type": "display_data"
    }
   ],
   "source": [
    "bgs.showTimeScoreChartAndGraph(n_estimators)"
   ]
  },
  {
   "cell_type": "code",
   "execution_count": 11,
   "metadata": {},
   "outputs": [
    {
     "data": {
      "text/html": [
       "<div>\n",
       "<style scoped>\n",
       "    .dataframe tbody tr th:only-of-type {\n",
       "        vertical-align: middle;\n",
       "    }\n",
       "\n",
       "    .dataframe tbody tr th {\n",
       "        vertical-align: top;\n",
       "    }\n",
       "\n",
       "    .dataframe thead th {\n",
       "        text-align: right;\n",
       "    }\n",
       "</style>\n",
       "<table border=\"1\" class=\"dataframe\">\n",
       "  <thead>\n",
       "    <tr style=\"text-align: right;\">\n",
       "      <th></th>\n",
       "      <th>n_estimators</th>\n",
       "      <th>score</th>\n",
       "      <th>time</th>\n",
       "      <th>scoreTimeRatio</th>\n",
       "    </tr>\n",
       "  </thead>\n",
       "  <tbody>\n",
       "    <tr>\n",
       "      <th>0</th>\n",
       "      <td>45</td>\n",
       "      <td>1.845951</td>\n",
       "      <td>0.002884</td>\n",
       "      <td>1.000000</td>\n",
       "    </tr>\n",
       "    <tr>\n",
       "      <th>1</th>\n",
       "      <td>128</td>\n",
       "      <td>2.504488</td>\n",
       "      <td>1.002884</td>\n",
       "      <td>0.000000</td>\n",
       "    </tr>\n",
       "    <tr>\n",
       "      <th>2</th>\n",
       "      <td>86</td>\n",
       "      <td>2.614244</td>\n",
       "      <td>0.549439</td>\n",
       "      <td>0.003545</td>\n",
       "    </tr>\n",
       "    <tr>\n",
       "      <th>3</th>\n",
       "      <td>65</td>\n",
       "      <td>2.638634</td>\n",
       "      <td>0.363449</td>\n",
       "      <td>0.007469</td>\n",
       "    </tr>\n",
       "    <tr>\n",
       "      <th>4</th>\n",
       "      <td>76</td>\n",
       "      <td>2.724000</td>\n",
       "      <td>0.425114</td>\n",
       "      <td>0.006133</td>\n",
       "    </tr>\n",
       "    <tr>\n",
       "      <th>5</th>\n",
       "      <td>70</td>\n",
       "      <td>2.638634</td>\n",
       "      <td>0.461370</td>\n",
       "      <td>0.005053</td>\n",
       "    </tr>\n",
       "    <tr>\n",
       "      <th>6</th>\n",
       "      <td>73</td>\n",
       "      <td>2.589854</td>\n",
       "      <td>0.401651</td>\n",
       "      <td>0.006196</td>\n",
       "    </tr>\n",
       "    <tr>\n",
       "      <th>7</th>\n",
       "      <td>74</td>\n",
       "      <td>2.845951</td>\n",
       "      <td>0.374253</td>\n",
       "      <td>0.008009</td>\n",
       "    </tr>\n",
       "  </tbody>\n",
       "</table>\n",
       "</div>"
      ],
      "text/plain": [
       "   n_estimators     score      time  scoreTimeRatio\n",
       "0            45  1.845951  0.002884        1.000000\n",
       "1           128  2.504488  1.002884        0.000000\n",
       "2            86  2.614244  0.549439        0.003545\n",
       "3            65  2.638634  0.363449        0.007469\n",
       "4            76  2.724000  0.425114        0.006133\n",
       "5            70  2.638634  0.461370        0.005053\n",
       "6            73  2.589854  0.401651        0.006196\n",
       "7            74  2.845951  0.374253        0.008009"
      ]
     },
     "metadata": {},
     "output_type": "display_data"
    },
    {
     "data": {
      "text/html": [
       "<div>\n",
       "<style scoped>\n",
       "    .dataframe tbody tr th:only-of-type {\n",
       "        vertical-align: middle;\n",
       "    }\n",
       "\n",
       "    .dataframe tbody tr th {\n",
       "        vertical-align: top;\n",
       "    }\n",
       "\n",
       "    .dataframe thead th {\n",
       "        text-align: right;\n",
       "    }\n",
       "</style>\n",
       "<table border=\"1\" class=\"dataframe\">\n",
       "  <thead>\n",
       "    <tr style=\"text-align: right;\">\n",
       "      <th></th>\n",
       "      <th>n_estimators</th>\n",
       "      <th>score</th>\n",
       "      <th>time</th>\n",
       "    </tr>\n",
       "  </thead>\n",
       "  <tbody>\n",
       "    <tr>\n",
       "      <th>0</th>\n",
       "      <td>45</td>\n",
       "      <td>0.989047</td>\n",
       "      <td>0.205071</td>\n",
       "    </tr>\n",
       "    <tr>\n",
       "      <th>1</th>\n",
       "      <td>128</td>\n",
       "      <td>0.989403</td>\n",
       "      <td>0.551849</td>\n",
       "    </tr>\n",
       "    <tr>\n",
       "      <th>2</th>\n",
       "      <td>86</td>\n",
       "      <td>0.989463</td>\n",
       "      <td>0.394604</td>\n",
       "    </tr>\n",
       "    <tr>\n",
       "      <th>3</th>\n",
       "      <td>65</td>\n",
       "      <td>0.989476</td>\n",
       "      <td>0.330107</td>\n",
       "    </tr>\n",
       "    <tr>\n",
       "      <th>4</th>\n",
       "      <td>76</td>\n",
       "      <td>0.989522</td>\n",
       "      <td>0.351491</td>\n",
       "    </tr>\n",
       "    <tr>\n",
       "      <th>5</th>\n",
       "      <td>70</td>\n",
       "      <td>0.989476</td>\n",
       "      <td>0.364064</td>\n",
       "    </tr>\n",
       "    <tr>\n",
       "      <th>6</th>\n",
       "      <td>73</td>\n",
       "      <td>0.989450</td>\n",
       "      <td>0.343355</td>\n",
       "    </tr>\n",
       "    <tr>\n",
       "      <th>7</th>\n",
       "      <td>74</td>\n",
       "      <td>0.989588</td>\n",
       "      <td>0.333854</td>\n",
       "    </tr>\n",
       "  </tbody>\n",
       "</table>\n",
       "</div>"
      ],
      "text/plain": [
       "   n_estimators     score      time\n",
       "0            45  0.989047  0.205071\n",
       "1           128  0.989403  0.551849\n",
       "2            86  0.989463  0.394604\n",
       "3            65  0.989476  0.330107\n",
       "4            76  0.989522  0.351491\n",
       "5            70  0.989476  0.364064\n",
       "6            73  0.989450  0.343355\n",
       "7            74  0.989588  0.333854"
      ]
     },
     "metadata": {},
     "output_type": "display_data"
    },
    {
     "data": {
      "application/vnd.vegalite.v2+json": {
       "$schema": "https://vega.github.io/schema/vega-lite/v2.6.0.json",
       "config": {
        "view": {
         "height": 300,
         "width": 400
        }
       },
       "data": {
        "name": "data-fdf1b7aeaea2e6c4a0b7020c4b41b189"
       },
       "datasets": {
        "data-fdf1b7aeaea2e6c4a0b7020c4b41b189": [
         {
          "n_estimators": 45,
          "value": 1.84595121951248,
          "variable": "score"
         },
         {
          "n_estimators": 128,
          "value": 2.504487804878414,
          "variable": "score"
         },
         {
          "n_estimators": 86,
          "value": 2.614243902439437,
          "variable": "score"
         },
         {
          "n_estimators": 65,
          "value": 2.638634146341841,
          "variable": "score"
         },
         {
          "n_estimators": 76,
          "value": 2.72400000000046,
          "variable": "score"
         },
         {
          "n_estimators": 70,
          "value": 2.638634146341841,
          "variable": "score"
         },
         {
          "n_estimators": 73,
          "value": 2.5898536585370326,
          "variable": "score"
         },
         {
          "n_estimators": 74,
          "value": 2.84595121951248,
          "variable": "score"
         },
         {
          "n_estimators": 45,
          "value": 0.002883692237022588,
          "variable": "time"
         },
         {
          "n_estimators": 128,
          "value": 1.0028836922370226,
          "variable": "time"
         },
         {
          "n_estimators": 86,
          "value": 0.5494389220712596,
          "variable": "time"
         },
         {
          "n_estimators": 65,
          "value": 0.36344921417143233,
          "variable": "time"
         },
         {
          "n_estimators": 76,
          "value": 0.4251138078761775,
          "variable": "time"
         },
         {
          "n_estimators": 70,
          "value": 0.4613696862889575,
          "variable": "time"
         },
         {
          "n_estimators": 73,
          "value": 0.40165120823260586,
          "variable": "time"
         },
         {
          "n_estimators": 74,
          "value": 0.37425347138493426,
          "variable": "time"
         },
         {
          "n_estimators": 45,
          "value": 1,
          "variable": "scoreTimeRatio"
         },
         {
          "n_estimators": 128,
          "value": 0,
          "variable": "scoreTimeRatio"
         },
         {
          "n_estimators": 86,
          "value": 0.0035454922266597707,
          "variable": "scoreTimeRatio"
         },
         {
          "n_estimators": 65,
          "value": 0.007469283430177382,
          "variable": "scoreTimeRatio"
         },
         {
          "n_estimators": 76,
          "value": 0.0061326545940115175,
          "variable": "scoreTimeRatio"
         },
         {
          "n_estimators": 70,
          "value": 0.005052787027462533,
          "variable": "scoreTimeRatio"
         },
         {
          "n_estimators": 73,
          "value": 0.006195889144673915,
          "variable": "scoreTimeRatio"
         },
         {
          "n_estimators": 74,
          "value": 0.008009341539657152,
          "variable": "scoreTimeRatio"
         }
        ]
       },
       "encoding": {
        "color": {
         "field": "variable",
         "type": "nominal"
        },
        "x": {
         "field": "n_estimators",
         "type": "ordinal"
        },
        "y": {
         "field": "value",
         "type": "quantitative"
        }
       },
       "mark": "line",
       "width": 400
      },
      "image/png": "[encoded data removed]",
      "text/plain": [
       "<VegaLite 2 object>\n",
       "\n",
       "If you see this message, it means the renderer has not been properly enabled\n",
       "for the frontend that you are using. For more information, see\n",
       "https://altair-viz.github.io/user_guide/troubleshooting.html\n"
      ]
     },
     "metadata": {},
     "output_type": "display_data"
    }
   ],
   "source": [
    "n_estimators = bgs.compareValsBaseCase(X, \n",
    "                    y, \n",
    "                    getForestAccuracy,        \n",
    "                    rfArgs, \n",
    "                    roc_auc_score, \n",
    "                    \"n_estimators\", \n",
    "                    0, \n",
    "                    45, \n",
    "                    128)\n",
    "\n",
    "bgs.showTimeScoreChartAndGraph(n_estimators)"
   ]
  },
  {
   "cell_type": "code",
   "execution_count": 12,
   "metadata": {},
   "outputs": [
    {
     "data": {
      "text/html": [
       "<div>\n",
       "<style scoped>\n",
       "    .dataframe tbody tr th:only-of-type {\n",
       "        vertical-align: middle;\n",
       "    }\n",
       "\n",
       "    .dataframe tbody tr th {\n",
       "        vertical-align: top;\n",
       "    }\n",
       "\n",
       "    .dataframe thead th {\n",
       "        text-align: right;\n",
       "    }\n",
       "</style>\n",
       "<table border=\"1\" class=\"dataframe\">\n",
       "  <thead>\n",
       "    <tr style=\"text-align: right;\">\n",
       "      <th></th>\n",
       "      <th>n_estimators</th>\n",
       "      <th>score</th>\n",
       "      <th>time</th>\n",
       "      <th>scoreTimeRatio</th>\n",
       "    </tr>\n",
       "  </thead>\n",
       "  <tbody>\n",
       "    <tr>\n",
       "      <th>0</th>\n",
       "      <td>65</td>\n",
       "      <td>5.702345</td>\n",
       "      <td>0.410516</td>\n",
       "      <td>0.062885</td>\n",
       "    </tr>\n",
       "    <tr>\n",
       "      <th>1</th>\n",
       "      <td>80</td>\n",
       "      <td>6.219586</td>\n",
       "      <td>1.044962</td>\n",
       "      <td>0.000000</td>\n",
       "    </tr>\n",
       "    <tr>\n",
       "      <th>2</th>\n",
       "      <td>72</td>\n",
       "      <td>5.529931</td>\n",
       "      <td>0.319221</td>\n",
       "      <td>0.090075</td>\n",
       "    </tr>\n",
       "    <tr>\n",
       "      <th>3</th>\n",
       "      <td>69</td>\n",
       "      <td>5.943724</td>\n",
       "      <td>0.044962</td>\n",
       "      <td>1.000000</td>\n",
       "    </tr>\n",
       "    <tr>\n",
       "      <th>4</th>\n",
       "      <td>67</td>\n",
       "      <td>5.219586</td>\n",
       "      <td>0.360534</td>\n",
       "      <td>0.067533</td>\n",
       "    </tr>\n",
       "  </tbody>\n",
       "</table>\n",
       "</div>"
      ],
      "text/plain": [
       "   n_estimators     score      time  scoreTimeRatio\n",
       "0            65  5.702345  0.410516        0.062885\n",
       "1            80  6.219586  1.044962        0.000000\n",
       "2            72  5.529931  0.319221        0.090075\n",
       "3            69  5.943724  0.044962        1.000000\n",
       "4            67  5.219586  0.360534        0.067533"
      ]
     },
     "metadata": {},
     "output_type": "display_data"
    },
    {
     "data": {
      "text/html": [
       "<div>\n",
       "<style scoped>\n",
       "    .dataframe tbody tr th:only-of-type {\n",
       "        vertical-align: middle;\n",
       "    }\n",
       "\n",
       "    .dataframe tbody tr th {\n",
       "        vertical-align: top;\n",
       "    }\n",
       "\n",
       "    .dataframe thead th {\n",
       "        text-align: right;\n",
       "    }\n",
       "</style>\n",
       "<table border=\"1\" class=\"dataframe\">\n",
       "  <thead>\n",
       "    <tr style=\"text-align: right;\">\n",
       "      <th></th>\n",
       "      <th>n_estimators</th>\n",
       "      <th>score</th>\n",
       "      <th>time</th>\n",
       "    </tr>\n",
       "  </thead>\n",
       "  <tbody>\n",
       "    <tr>\n",
       "      <th>0</th>\n",
       "      <td>65</td>\n",
       "      <td>0.989476</td>\n",
       "      <td>0.344010</td>\n",
       "    </tr>\n",
       "    <tr>\n",
       "      <th>1</th>\n",
       "      <td>80</td>\n",
       "      <td>0.989575</td>\n",
       "      <td>0.358120</td>\n",
       "    </tr>\n",
       "    <tr>\n",
       "      <th>2</th>\n",
       "      <td>72</td>\n",
       "      <td>0.989443</td>\n",
       "      <td>0.341979</td>\n",
       "    </tr>\n",
       "    <tr>\n",
       "      <th>3</th>\n",
       "      <td>69</td>\n",
       "      <td>0.989522</td>\n",
       "      <td>0.335879</td>\n",
       "    </tr>\n",
       "    <tr>\n",
       "      <th>4</th>\n",
       "      <td>67</td>\n",
       "      <td>0.989383</td>\n",
       "      <td>0.342898</td>\n",
       "    </tr>\n",
       "  </tbody>\n",
       "</table>\n",
       "</div>"
      ],
      "text/plain": [
       "   n_estimators     score      time\n",
       "0            65  0.989476  0.344010\n",
       "1            80  0.989575  0.358120\n",
       "2            72  0.989443  0.341979\n",
       "3            69  0.989522  0.335879\n",
       "4            67  0.989383  0.342898"
      ]
     },
     "metadata": {},
     "output_type": "display_data"
    },
    {
     "data": {
      "application/vnd.vegalite.v2+json": {
       "$schema": "https://vega.github.io/schema/vega-lite/v2.6.0.json",
       "config": {
        "view": {
         "height": 300,
         "width": 400
        }
       },
       "data": {
        "name": "data-0b887f4fcbdc6d19ead380dff18f8635"
       },
       "datasets": {
        "data-0b887f4fcbdc6d19ead380dff18f8635": [
         {
          "n_estimators": 65,
          "value": 5.702344827588472,
          "variable": "score"
         },
         {
          "n_estimators": 80,
          "value": 6.219586206898796,
          "variable": "score"
         },
         {
          "n_estimators": 72,
          "value": 5.529931034485223,
          "variable": "score"
         },
         {
          "n_estimators": 69,
          "value": 5.943724137933598,
          "variable": "score"
         },
         {
          "n_estimators": 67,
          "value": 5.219586206898796,
          "variable": "score"
         },
         {
          "n_estimators": 65,
          "value": 0.41051621646469,
          "variable": "time"
         },
         {
          "n_estimators": 80,
          "value": 1.0449623128781482,
          "variable": "time"
         },
         {
          "n_estimators": 72,
          "value": 0.31922113098654725,
          "variable": "time"
         },
         {
          "n_estimators": 69,
          "value": 0.04496231287814823,
          "variable": "time"
         },
         {
          "n_estimators": 67,
          "value": 0.3605336351752976,
          "variable": "time"
         },
         {
          "n_estimators": 65,
          "value": 0.06288500389861956,
          "variable": "scoreTimeRatio"
         },
         {
          "n_estimators": 80,
          "value": 0,
          "variable": "scoreTimeRatio"
         },
         {
          "n_estimators": 72,
          "value": 0.09007518895720883,
          "variable": "scoreTimeRatio"
         },
         {
          "n_estimators": 69,
          "value": 1,
          "variable": "scoreTimeRatio"
         },
         {
          "n_estimators": 67,
          "value": 0.06753261655689523,
          "variable": "scoreTimeRatio"
         }
        ]
       },
       "encoding": {
        "color": {
         "field": "variable",
         "type": "nominal"
        },
        "x": {
         "field": "n_estimators",
         "type": "ordinal"
        },
        "y": {
         "field": "value",
         "type": "quantitative"
        }
       },
       "mark": "line",
       "width": 400
      },
      "image/png": "[encoded data removed]",
      "text/plain": [
       "<VegaLite 2 object>\n",
       "\n",
       "If you see this message, it means the renderer has not been properly enabled\n",
       "for the frontend that you are using. For more information, see\n",
       "https://altair-viz.github.io/user_guide/troubleshooting.html\n"
      ]
     },
     "metadata": {},
     "output_type": "display_data"
    }
   ],
   "source": [
    "n_estimators = bgs.compareValsBaseCase(X, \n",
    "                    y, \n",
    "                    getForestAccuracy,        \n",
    "                    rfArgs, \n",
    "                    roc_auc_score, \n",
    "                    \"n_estimators\", \n",
    "                    0, \n",
    "                    65, \n",
    "                    80)\n",
    "\n",
    "bgs.showTimeScoreChartAndGraph(n_estimators)"
   ]
  },
  {
   "cell_type": "code",
   "execution_count": 13,
   "metadata": {},
   "outputs": [
    {
     "data": {
      "text/html": [
       "<div>\n",
       "<style scoped>\n",
       "    .dataframe tbody tr th:only-of-type {\n",
       "        vertical-align: middle;\n",
       "    }\n",
       "\n",
       "    .dataframe tbody tr th {\n",
       "        vertical-align: top;\n",
       "    }\n",
       "\n",
       "    .dataframe thead th {\n",
       "        text-align: right;\n",
       "    }\n",
       "</style>\n",
       "<table border=\"1\" class=\"dataframe\">\n",
       "  <thead>\n",
       "    <tr style=\"text-align: right;\">\n",
       "      <th></th>\n",
       "      <th>n_estimators</th>\n",
       "      <th>score</th>\n",
       "      <th>time</th>\n",
       "      <th>scoreTimeRatio</th>\n",
       "    </tr>\n",
       "  </thead>\n",
       "  <tbody>\n",
       "    <tr>\n",
       "      <th>0</th>\n",
       "      <td>65</td>\n",
       "      <td>7.398476</td>\n",
       "      <td>0.447761</td>\n",
       "      <td>0.050028</td>\n",
       "    </tr>\n",
       "    <tr>\n",
       "      <th>1</th>\n",
       "      <td>86</td>\n",
       "      <td>7.303238</td>\n",
       "      <td>1.037626</td>\n",
       "      <td>0.000000</td>\n",
       "    </tr>\n",
       "    <tr>\n",
       "      <th>2</th>\n",
       "      <td>76</td>\n",
       "      <td>7.731810</td>\n",
       "      <td>0.313612</td>\n",
       "      <td>0.092913</td>\n",
       "    </tr>\n",
       "    <tr>\n",
       "      <th>3</th>\n",
       "      <td>70</td>\n",
       "      <td>7.398476</td>\n",
       "      <td>0.037626</td>\n",
       "      <td>1.000000</td>\n",
       "    </tr>\n",
       "    <tr>\n",
       "      <th>4</th>\n",
       "      <td>73</td>\n",
       "      <td>7.208000</td>\n",
       "      <td>0.166424</td>\n",
       "      <td>0.191318</td>\n",
       "    </tr>\n",
       "    <tr>\n",
       "      <th>5</th>\n",
       "      <td>74</td>\n",
       "      <td>8.208000</td>\n",
       "      <td>0.184974</td>\n",
       "      <td>0.196924</td>\n",
       "    </tr>\n",
       "  </tbody>\n",
       "</table>\n",
       "</div>"
      ],
      "text/plain": [
       "   n_estimators     score      time  scoreTimeRatio\n",
       "0            65  7.398476  0.447761        0.050028\n",
       "1            86  7.303238  1.037626        0.000000\n",
       "2            76  7.731810  0.313612        0.092913\n",
       "3            70  7.398476  0.037626        1.000000\n",
       "4            73  7.208000  0.166424        0.191318\n",
       "5            74  8.208000  0.184974        0.196924"
      ]
     },
     "metadata": {},
     "output_type": "display_data"
    },
    {
     "data": {
      "text/html": [
       "<div>\n",
       "<style scoped>\n",
       "    .dataframe tbody tr th:only-of-type {\n",
       "        vertical-align: middle;\n",
       "    }\n",
       "\n",
       "    .dataframe tbody tr th {\n",
       "        vertical-align: top;\n",
       "    }\n",
       "\n",
       "    .dataframe thead th {\n",
       "        text-align: right;\n",
       "    }\n",
       "</style>\n",
       "<table border=\"1\" class=\"dataframe\">\n",
       "  <thead>\n",
       "    <tr style=\"text-align: right;\">\n",
       "      <th></th>\n",
       "      <th>n_estimators</th>\n",
       "      <th>score</th>\n",
       "      <th>time</th>\n",
       "    </tr>\n",
       "  </thead>\n",
       "  <tbody>\n",
       "    <tr>\n",
       "      <th>0</th>\n",
       "      <td>65</td>\n",
       "      <td>0.989476</td>\n",
       "      <td>0.353464</td>\n",
       "    </tr>\n",
       "    <tr>\n",
       "      <th>1</th>\n",
       "      <td>86</td>\n",
       "      <td>0.989463</td>\n",
       "      <td>0.369141</td>\n",
       "    </tr>\n",
       "    <tr>\n",
       "      <th>2</th>\n",
       "      <td>76</td>\n",
       "      <td>0.989522</td>\n",
       "      <td>0.349898</td>\n",
       "    </tr>\n",
       "    <tr>\n",
       "      <th>3</th>\n",
       "      <td>70</td>\n",
       "      <td>0.989476</td>\n",
       "      <td>0.342563</td>\n",
       "    </tr>\n",
       "    <tr>\n",
       "      <th>4</th>\n",
       "      <td>73</td>\n",
       "      <td>0.989450</td>\n",
       "      <td>0.345986</td>\n",
       "    </tr>\n",
       "    <tr>\n",
       "      <th>5</th>\n",
       "      <td>74</td>\n",
       "      <td>0.989588</td>\n",
       "      <td>0.346479</td>\n",
       "    </tr>\n",
       "  </tbody>\n",
       "</table>\n",
       "</div>"
      ],
      "text/plain": [
       "   n_estimators     score      time\n",
       "0            65  0.989476  0.353464\n",
       "1            86  0.989463  0.369141\n",
       "2            76  0.989522  0.349898\n",
       "3            70  0.989476  0.342563\n",
       "4            73  0.989450  0.345986\n",
       "5            74  0.989588  0.346479"
      ]
     },
     "metadata": {},
     "output_type": "display_data"
    },
    {
     "data": {
      "application/vnd.vegalite.v2+json": {
       "$schema": "https://vega.github.io/schema/vega-lite/v2.6.0.json",
       "config": {
        "view": {
         "height": 300,
         "width": 400
        }
       },
       "data": {
        "name": "data-a9319ecc4e332fa4d236f71473f1ef75"
       },
       "datasets": {
        "data-a9319ecc4e332fa4d236f71473f1ef75": [
         {
          "n_estimators": 65,
          "value": 7.398476190481723,
          "variable": "score"
         },
         {
          "n_estimators": 86,
          "value": 7.303238095243704,
          "variable": "score"
         },
         {
          "n_estimators": 76,
          "value": 7.73180952381559,
          "variable": "score"
         },
         {
          "n_estimators": 70,
          "value": 7.398476190481723,
          "variable": "score"
         },
         {
          "n_estimators": 73,
          "value": 7.208000000005685,
          "variable": "score"
         },
         {
          "n_estimators": 74,
          "value": 8.208000000005685,
          "variable": "score"
         },
         {
          "n_estimators": 65,
          "value": 0.4477607004113643,
          "variable": "time"
         },
         {
          "n_estimators": 86,
          "value": 1.037626151248538,
          "variable": "time"
         },
         {
          "n_estimators": 76,
          "value": 0.31361217373213496,
          "variable": "time"
         },
         {
          "n_estimators": 70,
          "value": 0.03762615124853807,
          "variable": "time"
         },
         {
          "n_estimators": 73,
          "value": 0.16642439997132857,
          "variable": "time"
         },
         {
          "n_estimators": 74,
          "value": 0.18497427758597396,
          "variable": "time"
         },
         {
          "n_estimators": 65,
          "value": 0.05002759152379132,
          "variable": "scoreTimeRatio"
         },
         {
          "n_estimators": 86,
          "value": 0,
          "variable": "scoreTimeRatio"
         },
         {
          "n_estimators": 76,
          "value": 0.09291300422065288,
          "variable": "scoreTimeRatio"
         },
         {
          "n_estimators": 70,
          "value": 1,
          "variable": "scoreTimeRatio"
         },
         {
          "n_estimators": 73,
          "value": 0.19131815236394314,
          "variable": "scoreTimeRatio"
         },
         {
          "n_estimators": 74,
          "value": 0.19692374708705135,
          "variable": "scoreTimeRatio"
         }
        ]
       },
       "encoding": {
        "color": {
         "field": "variable",
         "type": "nominal"
        },
        "x": {
         "field": "n_estimators",
         "type": "ordinal"
        },
        "y": {
         "field": "value",
         "type": "quantitative"
        }
       },
       "mark": "line",
       "width": 400
      },
      "image/png": "[encoded data removed]",
      "text/plain": [
       "<VegaLite 2 object>\n",
       "\n",
       "If you see this message, it means the renderer has not been properly enabled\n",
       "for the frontend that you are using. For more information, see\n",
       "https://altair-viz.github.io/user_guide/troubleshooting.html\n"
      ]
     },
     "metadata": {},
     "output_type": "display_data"
    }
   ],
   "source": [
    "n_estimators = bgs.compareValsBaseCase(X, \n",
    "                    y, \n",
    "                    getForestAccuracy,        \n",
    "                    rfArgs, \n",
    "                    roc_auc_score, \n",
    "                    \"n_estimators\", \n",
    "                    0, \n",
    "                    65, \n",
    "                    86)\n",
    "\n",
    "bgs.showTimeScoreChartAndGraph(n_estimators)"
   ]
  },
  {
   "cell_type": "code",
   "execution_count": null,
   "metadata": {},
   "outputs": [],
   "source": []
  }
 ],
 "metadata": {
  "kernelspec": {
   "display_name": "Python [conda env:py36]",
   "language": "python",
   "name": "conda-env-py36-py"
  },
  "language_info": {
   "codemirror_mode": {
    "name": "ipython",
    "version": 3
   },
   "file_extension": ".py",
   "mimetype": "text/x-python",
   "name": "python",
   "nbconvert_exporter": "python",
   "pygments_lexer": "ipython3",
   "version": "3.6.4"
  }
 },
 "nbformat": 4,
 "nbformat_minor": 2
}
