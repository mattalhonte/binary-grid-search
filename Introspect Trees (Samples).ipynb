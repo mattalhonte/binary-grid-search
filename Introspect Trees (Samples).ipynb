{
 "cells": [
  {
   "cell_type": "code",
   "execution_count": 1,
   "metadata": {},
   "outputs": [],
   "source": [
    "%load_ext autoreload\n",
    "%autoreload 1\n",
    "\n",
    "import binarygridsearch.binarygridsearch as bgs\n",
    "%aimport binarygridsearch.binarygridsearch\n",
    "\n",
    "import pandas as pd\n",
    "from sklearn.metrics import precision_recall_curve\n",
    "from sklearn.metrics import roc_auc_score\n",
    "from sklearn.ensemble import RandomForestClassifier\n",
    "from sklearn.model_selection import GridSearchCV\n",
    "from sklearn.model_selection import RandomizedSearchCV\n",
    "\n",
    "import numpy as np\n",
    "\n",
    "from sklearn.datasets import load_breast_cancer\n",
    "from sklearn.tree import _tree"
   ]
  },
  {
   "cell_type": "code",
   "execution_count": 2,
   "metadata": {},
   "outputs": [],
   "source": [
    "#From here: https://aysent.github.io/2015/11/08/random-forest-leaf-visualization.html\n",
    "def leaf_samples(tree, node_id = 0):\n",
    "    left_child = tree.children_left[node_id]\n",
    "    right_child = tree.children_right[node_id]\n",
    "    \n",
    "    if left_child == _tree.TREE_LEAF:\n",
    "        samples = np.array([tree.n_node_samples[node_id]])\n",
    "        \n",
    "    else:\n",
    "        \n",
    "        left_samples = leaf_samples(tree, left_child)\n",
    "        right_samples = leaf_samples(tree, right_child)\n",
    "        \n",
    "        samples = np.append(left_samples, right_samples)\n",
    "        \n",
    "    return samples\n"
   ]
  },
  {
   "cell_type": "code",
   "execution_count": 3,
   "metadata": {},
   "outputs": [],
   "source": [
    "def getForestParams(X, y, param, kwargs):\n",
    "    clf = RandomForestClassifier(**kwargs)\n",
    "    clf.fit(X, y)\n",
    "    params = np.hstack([param(estimator.tree_) \n",
    "                 for estimator in clf.estimators_])\n",
    "    return {\"min\": params.min(),\n",
    "           \"max\": params.max()}"
   ]
  },
  {
   "cell_type": "code",
   "execution_count": 4,
   "metadata": {},
   "outputs": [],
   "source": [
    "data = load_breast_cancer()\n",
    "X, y = data.data, data.target\n",
    "\n",
    "rfArgs = {\"random_state\": 0,\n",
    "          \"n_jobs\": -1,\n",
    "          \"class_weight\": \"balanced\",\n",
    "         \"n_estimators\": 18,\n",
    "         \"oob_score\": True}"
   ]
  },
  {
   "cell_type": "code",
   "execution_count": 5,
   "metadata": {},
   "outputs": [
    {
     "data": {
      "text/plain": [
       "{'max': 199, 'min': 1}"
      ]
     },
     "execution_count": 5,
     "metadata": {},
     "output_type": "execute_result"
    }
   ],
   "source": [
    "getForestParams(X, y, leaf_samples, rfArgs)"
   ]
  },
  {
   "cell_type": "code",
   "execution_count": 6,
   "metadata": {},
   "outputs": [],
   "source": [
    "from sklearn.metrics import precision_recall_curve\n",
    "from sklearn.metrics import auc\n",
    "from sklearn.model_selection import cross_val_score\n",
    "\n",
    "def auc_prc(estimator, X, y):\n",
    "    estimator.fit(X, y)\n",
    "    y_pred = estimator.oob_decision_function_[:, 1]\n",
    "    precision, recall, _ = precision_recall_curve(y, y_pred)\n",
    "    return auc(recall, precision)\n",
    "\n",
    "def getForestAccuracyCV(X, y, kwargs):\n",
    "    clf = RandomForestClassifier(**kwargs)\n",
    "    return np.mean(cross_val_score(clf, X, y, scoring=auc_prc, cv=5))"
   ]
  },
  {
   "cell_type": "code",
   "execution_count": 7,
   "metadata": {},
   "outputs": [
    {
     "data": {
      "text/html": [
       "<div>\n",
       "<style scoped>\n",
       "    .dataframe tbody tr th:only-of-type {\n",
       "        vertical-align: middle;\n",
       "    }\n",
       "\n",
       "    .dataframe tbody tr th {\n",
       "        vertical-align: top;\n",
       "    }\n",
       "\n",
       "    .dataframe thead th {\n",
       "        text-align: right;\n",
       "    }\n",
       "</style>\n",
       "<table border=\"1\" class=\"dataframe\">\n",
       "  <thead>\n",
       "    <tr style=\"text-align: right;\">\n",
       "      <th></th>\n",
       "      <th>min_samples_leaf</th>\n",
       "      <th>score</th>\n",
       "      <th>time</th>\n",
       "      <th>scoreTimeRatio</th>\n",
       "    </tr>\n",
       "  </thead>\n",
       "  <tbody>\n",
       "    <tr>\n",
       "      <th>0</th>\n",
       "      <td>1</td>\n",
       "      <td>0.992414</td>\n",
       "      <td>1.040350</td>\n",
       "      <td>0.038312</td>\n",
       "    </tr>\n",
       "    <tr>\n",
       "      <th>1</th>\n",
       "      <td>199</td>\n",
       "      <td>0.002084</td>\n",
       "      <td>0.542641</td>\n",
       "      <td>0.000052</td>\n",
       "    </tr>\n",
       "    <tr>\n",
       "      <th>2</th>\n",
       "      <td>100</td>\n",
       "      <td>0.002084</td>\n",
       "      <td>0.592403</td>\n",
       "      <td>0.000039</td>\n",
       "    </tr>\n",
       "    <tr>\n",
       "      <th>3</th>\n",
       "      <td>51</td>\n",
       "      <td>0.002084</td>\n",
       "      <td>0.817436</td>\n",
       "      <td>0.000000</td>\n",
       "    </tr>\n",
       "    <tr>\n",
       "      <th>4</th>\n",
       "      <td>26</td>\n",
       "      <td>0.980393</td>\n",
       "      <td>0.631360</td>\n",
       "      <td>0.062430</td>\n",
       "    </tr>\n",
       "    <tr>\n",
       "      <th>5</th>\n",
       "      <td>14</td>\n",
       "      <td>0.995105</td>\n",
       "      <td>0.263413</td>\n",
       "      <td>0.152028</td>\n",
       "    </tr>\n",
       "    <tr>\n",
       "      <th>6</th>\n",
       "      <td>7</td>\n",
       "      <td>0.988716</td>\n",
       "      <td>0.881517</td>\n",
       "      <td>0.045065</td>\n",
       "    </tr>\n",
       "    <tr>\n",
       "      <th>7</th>\n",
       "      <td>10</td>\n",
       "      <td>0.998930</td>\n",
       "      <td>0.613618</td>\n",
       "      <td>0.065455</td>\n",
       "    </tr>\n",
       "    <tr>\n",
       "      <th>8</th>\n",
       "      <td>12</td>\n",
       "      <td>1.002084</td>\n",
       "      <td>0.040350</td>\n",
       "      <td>1.000000</td>\n",
       "    </tr>\n",
       "  </tbody>\n",
       "</table>\n",
       "</div>"
      ],
      "text/plain": [
       "   min_samples_leaf     score      time  scoreTimeRatio\n",
       "0                 1  0.992414  1.040350        0.038312\n",
       "1               199  0.002084  0.542641        0.000052\n",
       "2               100  0.002084  0.592403        0.000039\n",
       "3                51  0.002084  0.817436        0.000000\n",
       "4                26  0.980393  0.631360        0.062430\n",
       "5                14  0.995105  0.263413        0.152028\n",
       "6                 7  0.988716  0.881517        0.045065\n",
       "7                10  0.998930  0.613618        0.065455\n",
       "8                12  1.002084  0.040350        1.000000"
      ]
     },
     "metadata": {},
     "output_type": "display_data"
    },
    {
     "data": {
      "text/html": [
       "<div>\n",
       "<style scoped>\n",
       "    .dataframe tbody tr th:only-of-type {\n",
       "        vertical-align: middle;\n",
       "    }\n",
       "\n",
       "    .dataframe tbody tr th {\n",
       "        vertical-align: top;\n",
       "    }\n",
       "\n",
       "    .dataframe thead th {\n",
       "        text-align: right;\n",
       "    }\n",
       "</style>\n",
       "<table border=\"1\" class=\"dataframe\">\n",
       "  <thead>\n",
       "    <tr style=\"text-align: right;\">\n",
       "      <th></th>\n",
       "      <th>min_samples_leaf</th>\n",
       "      <th>score</th>\n",
       "      <th>time</th>\n",
       "    </tr>\n",
       "  </thead>\n",
       "  <tbody>\n",
       "    <tr>\n",
       "      <th>0</th>\n",
       "      <td>1</td>\n",
       "      <td>0.981662</td>\n",
       "      <td>1.405569</td>\n",
       "    </tr>\n",
       "    <tr>\n",
       "      <th>1</th>\n",
       "      <td>199</td>\n",
       "      <td>0.506455</td>\n",
       "      <td>1.393235</td>\n",
       "    </tr>\n",
       "    <tr>\n",
       "      <th>2</th>\n",
       "      <td>100</td>\n",
       "      <td>0.506455</td>\n",
       "      <td>1.394468</td>\n",
       "    </tr>\n",
       "    <tr>\n",
       "      <th>3</th>\n",
       "      <td>51</td>\n",
       "      <td>0.506455</td>\n",
       "      <td>1.400045</td>\n",
       "    </tr>\n",
       "    <tr>\n",
       "      <th>4</th>\n",
       "      <td>26</td>\n",
       "      <td>0.975894</td>\n",
       "      <td>1.395433</td>\n",
       "    </tr>\n",
       "    <tr>\n",
       "      <th>5</th>\n",
       "      <td>14</td>\n",
       "      <td>0.982954</td>\n",
       "      <td>1.386315</td>\n",
       "    </tr>\n",
       "    <tr>\n",
       "      <th>6</th>\n",
       "      <td>7</td>\n",
       "      <td>0.979888</td>\n",
       "      <td>1.401633</td>\n",
       "    </tr>\n",
       "    <tr>\n",
       "      <th>7</th>\n",
       "      <td>10</td>\n",
       "      <td>0.984789</td>\n",
       "      <td>1.394994</td>\n",
       "    </tr>\n",
       "    <tr>\n",
       "      <th>8</th>\n",
       "      <td>12</td>\n",
       "      <td>0.986302</td>\n",
       "      <td>1.380786</td>\n",
       "    </tr>\n",
       "  </tbody>\n",
       "</table>\n",
       "</div>"
      ],
      "text/plain": [
       "   min_samples_leaf     score      time\n",
       "0                 1  0.981662  1.405569\n",
       "1               199  0.506455  1.393235\n",
       "2               100  0.506455  1.394468\n",
       "3                51  0.506455  1.400045\n",
       "4                26  0.975894  1.395433\n",
       "5                14  0.982954  1.386315\n",
       "6                 7  0.979888  1.401633\n",
       "7                10  0.984789  1.394994\n",
       "8                12  0.986302  1.380786"
      ]
     },
     "metadata": {},
     "output_type": "display_data"
    },
    {
     "data": {
      "application/vnd.vegalite.v2+json": {
       "$schema": "https://vega.github.io/schema/vega-lite/v2.6.0.json",
       "config": {
        "view": {
         "height": 300,
         "width": 400
        }
       },
       "data": {
        "name": "data-3eb530eb2cd0a7bef6df244eac1bcb93"
       },
       "datasets": {
        "data-3eb530eb2cd0a7bef6df244eac1bcb93": [
         {
          "min_samples_leaf": 1,
          "value": 0.9924140660030869,
          "variable": "score"
         },
         {
          "min_samples_leaf": 199,
          "value": 0.0020839950800950213,
          "variable": "score"
         },
         {
          "min_samples_leaf": 100,
          "value": 0.0020839950800950213,
          "variable": "score"
         },
         {
          "min_samples_leaf": 51,
          "value": 0.0020839950800950213,
          "variable": "score"
         },
         {
          "min_samples_leaf": 26,
          "value": 0.9803931876485058,
          "variable": "score"
         },
         {
          "min_samples_leaf": 14,
          "value": 0.9951053867076285,
          "variable": "score"
         },
         {
          "min_samples_leaf": 7,
          "value": 0.9887161830659049,
          "variable": "score"
         },
         {
          "min_samples_leaf": 10,
          "value": 0.998930147478458,
          "variable": "score"
         },
         {
          "min_samples_leaf": 12,
          "value": 1.002083995080095,
          "variable": "score"
         },
         {
          "min_samples_leaf": 1,
          "value": 1.0403501621816424,
          "variable": "time"
         },
         {
          "min_samples_leaf": 199,
          "value": 0.5426414112123386,
          "variable": "time"
         },
         {
          "min_samples_leaf": 100,
          "value": 0.5924032447977958,
          "variable": "time"
         },
         {
          "min_samples_leaf": 51,
          "value": 0.8174362062930198,
          "variable": "time"
         },
         {
          "min_samples_leaf": 26,
          "value": 0.6313603970147981,
          "variable": "time"
         },
         {
          "min_samples_leaf": 14,
          "value": 0.26341345708354136,
          "variable": "time"
         },
         {
          "min_samples_leaf": 7,
          "value": 0.8815166599619437,
          "variable": "time"
         },
         {
          "min_samples_leaf": 10,
          "value": 0.6136176144877633,
          "variable": "time"
         },
         {
          "min_samples_leaf": 12,
          "value": 0.040350162181642314,
          "variable": "time"
         },
         {
          "min_samples_leaf": 1,
          "value": 0.03831218126653621,
          "variable": "scoreTimeRatio"
         },
         {
          "min_samples_leaf": 199,
          "value": 5.199051656960788e-05,
          "variable": "scoreTimeRatio"
         },
         {
          "min_samples_leaf": 100,
          "value": 3.8999341189271846e-05,
          "variable": "scoreTimeRatio"
         },
         {
          "min_samples_leaf": 51,
          "value": 0,
          "variable": "scoreTimeRatio"
         },
         {
          "min_samples_leaf": 26,
          "value": 0.06243025117212314,
          "variable": "scoreTimeRatio"
         },
         {
          "min_samples_leaf": 14,
          "value": 0.1520280333657139,
          "variable": "scoreTimeRatio"
         },
         {
          "min_samples_leaf": 7,
          "value": 0.04506491767463728,
          "variable": "scoreTimeRatio"
         },
         {
          "min_samples_leaf": 10,
          "value": 0.06545493357830837,
          "variable": "scoreTimeRatio"
         },
         {
          "min_samples_leaf": 12,
          "value": 1,
          "variable": "scoreTimeRatio"
         }
        ]
       },
       "encoding": {
        "color": {
         "field": "variable",
         "type": "nominal"
        },
        "x": {
         "field": "min_samples_leaf",
         "type": "ordinal"
        },
        "y": {
         "field": "value",
         "type": "quantitative"
        }
       },
       "mark": "line",
       "width": 400
      },
      "image/png": "[encoded data removed]",
      "text/plain": [
       "<VegaLite 2 object>\n",
       "\n",
       "If you see this message, it means the renderer has not been properly enabled\n",
       "for the frontend that you are using. For more information, see\n",
       "https://altair-viz.github.io/user_guide/troubleshooting.html\n"
      ]
     },
     "metadata": {},
     "output_type": "display_data"
    }
   ],
   "source": [
    "min_samples_leaf = bgs.compareValsBaseCase(X, \n",
    "                    y, \n",
    "                    getForestAccuracyCV,        \n",
    "                    rfArgs, \n",
    "                    \"min_samples_leaf\", \n",
    "                    0, \n",
    "                    1, \n",
    "                    199)\n",
    "bgs.showTimeScoreChartAndGraph(min_samples_leaf)"
   ]
  },
  {
   "cell_type": "code",
   "execution_count": 9,
   "metadata": {},
   "outputs": [
    {
     "data": {
      "text/html": [
       "<div>\n",
       "<style scoped>\n",
       "    .dataframe tbody tr th:only-of-type {\n",
       "        vertical-align: middle;\n",
       "    }\n",
       "\n",
       "    .dataframe tbody tr th {\n",
       "        vertical-align: top;\n",
       "    }\n",
       "\n",
       "    .dataframe thead th {\n",
       "        text-align: right;\n",
       "    }\n",
       "</style>\n",
       "<table border=\"1\" class=\"dataframe\">\n",
       "  <thead>\n",
       "    <tr style=\"text-align: right;\">\n",
       "      <th></th>\n",
       "      <th>min_samples_leaf</th>\n",
       "      <th>score</th>\n",
       "      <th>time</th>\n",
       "      <th>scoreTimeRatio</th>\n",
       "    </tr>\n",
       "  </thead>\n",
       "  <tbody>\n",
       "    <tr>\n",
       "      <th>0</th>\n",
       "      <td>1</td>\n",
       "      <td>0.992414</td>\n",
       "      <td>0.419546</td>\n",
       "      <td>0.066307</td>\n",
       "    </tr>\n",
       "    <tr>\n",
       "      <th>1</th>\n",
       "      <td>51</td>\n",
       "      <td>0.002084</td>\n",
       "      <td>0.039291</td>\n",
       "      <td>0.000000</td>\n",
       "    </tr>\n",
       "    <tr>\n",
       "      <th>2</th>\n",
       "      <td>26</td>\n",
       "      <td>0.980393</td>\n",
       "      <td>0.028070</td>\n",
       "      <td>1.000000</td>\n",
       "    </tr>\n",
       "    <tr>\n",
       "      <th>3</th>\n",
       "      <td>14</td>\n",
       "      <td>0.995105</td>\n",
       "      <td>0.282078</td>\n",
       "      <td>0.099636</td>\n",
       "    </tr>\n",
       "    <tr>\n",
       "      <th>4</th>\n",
       "      <td>7</td>\n",
       "      <td>0.988716</td>\n",
       "      <td>0.763508</td>\n",
       "      <td>0.035612</td>\n",
       "    </tr>\n",
       "    <tr>\n",
       "      <th>5</th>\n",
       "      <td>10</td>\n",
       "      <td>0.998930</td>\n",
       "      <td>0.881747</td>\n",
       "      <td>0.030965</td>\n",
       "    </tr>\n",
       "    <tr>\n",
       "      <th>6</th>\n",
       "      <td>12</td>\n",
       "      <td>1.002084</td>\n",
       "      <td>1.028070</td>\n",
       "      <td>0.026429</td>\n",
       "    </tr>\n",
       "  </tbody>\n",
       "</table>\n",
       "</div>"
      ],
      "text/plain": [
       "   min_samples_leaf     score      time  scoreTimeRatio\n",
       "0                 1  0.992414  0.419546        0.066307\n",
       "1                51  0.002084  0.039291        0.000000\n",
       "2                26  0.980393  0.028070        1.000000\n",
       "3                14  0.995105  0.282078        0.099636\n",
       "4                 7  0.988716  0.763508        0.035612\n",
       "5                10  0.998930  0.881747        0.030965\n",
       "6                12  1.002084  1.028070        0.026429"
      ]
     },
     "metadata": {},
     "output_type": "display_data"
    },
    {
     "data": {
      "text/html": [
       "<div>\n",
       "<style scoped>\n",
       "    .dataframe tbody tr th:only-of-type {\n",
       "        vertical-align: middle;\n",
       "    }\n",
       "\n",
       "    .dataframe tbody tr th {\n",
       "        vertical-align: top;\n",
       "    }\n",
       "\n",
       "    .dataframe thead th {\n",
       "        text-align: right;\n",
       "    }\n",
       "</style>\n",
       "<table border=\"1\" class=\"dataframe\">\n",
       "  <thead>\n",
       "    <tr style=\"text-align: right;\">\n",
       "      <th></th>\n",
       "      <th>min_samples_leaf</th>\n",
       "      <th>score</th>\n",
       "      <th>time</th>\n",
       "    </tr>\n",
       "  </thead>\n",
       "  <tbody>\n",
       "    <tr>\n",
       "      <th>0</th>\n",
       "      <td>1</td>\n",
       "      <td>0.981662</td>\n",
       "      <td>1.414837</td>\n",
       "    </tr>\n",
       "    <tr>\n",
       "      <th>1</th>\n",
       "      <td>51</td>\n",
       "      <td>0.506455</td>\n",
       "      <td>1.401290</td>\n",
       "    </tr>\n",
       "    <tr>\n",
       "      <th>2</th>\n",
       "      <td>26</td>\n",
       "      <td>0.975894</td>\n",
       "      <td>1.400890</td>\n",
       "    </tr>\n",
       "    <tr>\n",
       "      <th>3</th>\n",
       "      <td>14</td>\n",
       "      <td>0.982954</td>\n",
       "      <td>1.409940</td>\n",
       "    </tr>\n",
       "    <tr>\n",
       "      <th>4</th>\n",
       "      <td>7</td>\n",
       "      <td>0.979888</td>\n",
       "      <td>1.427091</td>\n",
       "    </tr>\n",
       "    <tr>\n",
       "      <th>5</th>\n",
       "      <td>10</td>\n",
       "      <td>0.984789</td>\n",
       "      <td>1.431303</td>\n",
       "    </tr>\n",
       "    <tr>\n",
       "      <th>6</th>\n",
       "      <td>12</td>\n",
       "      <td>0.986302</td>\n",
       "      <td>1.436516</td>\n",
       "    </tr>\n",
       "  </tbody>\n",
       "</table>\n",
       "</div>"
      ],
      "text/plain": [
       "   min_samples_leaf     score      time\n",
       "0                 1  0.981662  1.414837\n",
       "1                51  0.506455  1.401290\n",
       "2                26  0.975894  1.400890\n",
       "3                14  0.982954  1.409940\n",
       "4                 7  0.979888  1.427091\n",
       "5                10  0.984789  1.431303\n",
       "6                12  0.986302  1.436516"
      ]
     },
     "metadata": {},
     "output_type": "display_data"
    },
    {
     "data": {
      "application/vnd.vegalite.v2+json": {
       "$schema": "https://vega.github.io/schema/vega-lite/v2.6.0.json",
       "config": {
        "view": {
         "height": 300,
         "width": 400
        }
       },
       "data": {
        "name": "data-553c06e90d6ded9ae52a09d7b05a0c20"
       },
       "datasets": {
        "data-553c06e90d6ded9ae52a09d7b05a0c20": [
         {
          "min_samples_leaf": 1,
          "value": 0.9924140660030869,
          "variable": "score"
         },
         {
          "min_samples_leaf": 51,
          "value": 0.0020839950800950213,
          "variable": "score"
         },
         {
          "min_samples_leaf": 26,
          "value": 0.9803931876485058,
          "variable": "score"
         },
         {
          "min_samples_leaf": 14,
          "value": 0.9951053867076285,
          "variable": "score"
         },
         {
          "min_samples_leaf": 7,
          "value": 0.9887161830659049,
          "variable": "score"
         },
         {
          "min_samples_leaf": 10,
          "value": 0.998930147478458,
          "variable": "score"
         },
         {
          "min_samples_leaf": 12,
          "value": 1.002083995080095,
          "variable": "score"
         },
         {
          "min_samples_leaf": 1,
          "value": 0.4195463153017204,
          "variable": "time"
         },
         {
          "min_samples_leaf": 51,
          "value": 0.03929110472521892,
          "variable": "time"
         },
         {
          "min_samples_leaf": 26,
          "value": 0.02806968193769202,
          "variable": "time"
         },
         {
          "min_samples_leaf": 14,
          "value": 0.28207825256893465,
          "variable": "time"
         },
         {
          "min_samples_leaf": 7,
          "value": 0.7635082683390529,
          "variable": "time"
         },
         {
          "min_samples_leaf": 10,
          "value": 0.8817465376388218,
          "variable": "time"
         },
         {
          "min_samples_leaf": 12,
          "value": 1.028069681937692,
          "variable": "time"
         },
         {
          "min_samples_leaf": 1,
          "value": 0.06630729249355499,
          "variable": "scoreTimeRatio"
         },
         {
          "min_samples_leaf": 51,
          "value": 0,
          "variable": "scoreTimeRatio"
         },
         {
          "min_samples_leaf": 26,
          "value": 1,
          "variable": "scoreTimeRatio"
         },
         {
          "min_samples_leaf": 14,
          "value": 0.09963627896436429,
          "variable": "scoreTimeRatio"
         },
         {
          "min_samples_leaf": 7,
          "value": 0.03561168300160711,
          "variable": "scoreTimeRatio"
         },
         {
          "min_samples_leaf": 10,
          "value": 0.030964530425026143,
          "variable": "scoreTimeRatio"
         },
         {
          "min_samples_leaf": 12,
          "value": 0.026428909337088594,
          "variable": "scoreTimeRatio"
         }
        ]
       },
       "encoding": {
        "color": {
         "field": "variable",
         "type": "nominal"
        },
        "x": {
         "field": "min_samples_leaf",
         "type": "ordinal"
        },
        "y": {
         "field": "value",
         "type": "quantitative"
        }
       },
       "mark": "line",
       "width": 400
      },
      "image/png": "[encoded data removed]",
      "text/plain": [
       "<VegaLite 2 object>\n",
       "\n",
       "If you see this message, it means the renderer has not been properly enabled\n",
       "for the frontend that you are using. For more information, see\n",
       "https://altair-viz.github.io/user_guide/troubleshooting.html\n"
      ]
     },
     "metadata": {},
     "output_type": "display_data"
    }
   ],
   "source": [
    "min_samples_leaf = bgs.compareValsBaseCase(X, \n",
    "                    y, \n",
    "                    getForestAccuracyCV,        \n",
    "                    rfArgs, \n",
    "                    \"min_samples_leaf\", \n",
    "                    0, \n",
    "                    1, \n",
    "                    51)\n",
    "bgs.showTimeScoreChartAndGraph(min_samples_leaf)"
   ]
  },
  {
   "cell_type": "code",
   "execution_count": 11,
   "metadata": {},
   "outputs": [
    {
     "data": {
      "text/html": [
       "<div>\n",
       "<style scoped>\n",
       "    .dataframe tbody tr th:only-of-type {\n",
       "        vertical-align: middle;\n",
       "    }\n",
       "\n",
       "    .dataframe tbody tr th {\n",
       "        vertical-align: top;\n",
       "    }\n",
       "\n",
       "    .dataframe thead th {\n",
       "        text-align: right;\n",
       "    }\n",
       "</style>\n",
       "<table border=\"1\" class=\"dataframe\">\n",
       "  <thead>\n",
       "    <tr style=\"text-align: right;\">\n",
       "      <th></th>\n",
       "      <th>min_samples_leaf</th>\n",
       "      <th>score</th>\n",
       "      <th>time</th>\n",
       "      <th>scoreTimeRatio</th>\n",
       "    </tr>\n",
       "  </thead>\n",
       "  <tbody>\n",
       "    <tr>\n",
       "      <th>0</th>\n",
       "      <td>1</td>\n",
       "      <td>0.650270</td>\n",
       "      <td>0.973749</td>\n",
       "      <td>0.146612</td>\n",
       "    </tr>\n",
       "    <tr>\n",
       "      <th>1</th>\n",
       "      <td>26</td>\n",
       "      <td>0.096077</td>\n",
       "      <td>0.126764</td>\n",
       "      <td>0.201213</td>\n",
       "    </tr>\n",
       "    <tr>\n",
       "      <th>2</th>\n",
       "      <td>14</td>\n",
       "      <td>0.774346</td>\n",
       "      <td>0.372936</td>\n",
       "      <td>1.000000</td>\n",
       "    </tr>\n",
       "    <tr>\n",
       "      <th>3</th>\n",
       "      <td>7</td>\n",
       "      <td>0.479788</td>\n",
       "      <td>1.126764</td>\n",
       "      <td>0.000000</td>\n",
       "    </tr>\n",
       "    <tr>\n",
       "      <th>4</th>\n",
       "      <td>10</td>\n",
       "      <td>0.950677</td>\n",
       "      <td>0.673260</td>\n",
       "      <td>0.597525</td>\n",
       "    </tr>\n",
       "    <tr>\n",
       "      <th>5</th>\n",
       "      <td>12</td>\n",
       "      <td>1.096077</td>\n",
       "      <td>0.676393</td>\n",
       "      <td>0.723800</td>\n",
       "    </tr>\n",
       "  </tbody>\n",
       "</table>\n",
       "</div>"
      ],
      "text/plain": [
       "   min_samples_leaf     score      time  scoreTimeRatio\n",
       "0                 1  0.650270  0.973749        0.146612\n",
       "1                26  0.096077  0.126764        0.201213\n",
       "2                14  0.774346  0.372936        1.000000\n",
       "3                 7  0.479788  1.126764        0.000000\n",
       "4                10  0.950677  0.673260        0.597525\n",
       "5                12  1.096077  0.676393        0.723800"
      ]
     },
     "metadata": {},
     "output_type": "display_data"
    },
    {
     "data": {
      "text/html": [
       "<div>\n",
       "<style scoped>\n",
       "    .dataframe tbody tr th:only-of-type {\n",
       "        vertical-align: middle;\n",
       "    }\n",
       "\n",
       "    .dataframe tbody tr th {\n",
       "        vertical-align: top;\n",
       "    }\n",
       "\n",
       "    .dataframe thead th {\n",
       "        text-align: right;\n",
       "    }\n",
       "</style>\n",
       "<table border=\"1\" class=\"dataframe\">\n",
       "  <thead>\n",
       "    <tr style=\"text-align: right;\">\n",
       "      <th></th>\n",
       "      <th>min_samples_leaf</th>\n",
       "      <th>score</th>\n",
       "      <th>time</th>\n",
       "    </tr>\n",
       "  </thead>\n",
       "  <tbody>\n",
       "    <tr>\n",
       "      <th>0</th>\n",
       "      <td>1</td>\n",
       "      <td>0.981662</td>\n",
       "      <td>1.402538</td>\n",
       "    </tr>\n",
       "    <tr>\n",
       "      <th>1</th>\n",
       "      <td>26</td>\n",
       "      <td>0.975894</td>\n",
       "      <td>1.395857</td>\n",
       "    </tr>\n",
       "    <tr>\n",
       "      <th>2</th>\n",
       "      <td>14</td>\n",
       "      <td>0.982954</td>\n",
       "      <td>1.397799</td>\n",
       "    </tr>\n",
       "    <tr>\n",
       "      <th>3</th>\n",
       "      <td>7</td>\n",
       "      <td>0.979888</td>\n",
       "      <td>1.403746</td>\n",
       "    </tr>\n",
       "    <tr>\n",
       "      <th>4</th>\n",
       "      <td>10</td>\n",
       "      <td>0.984789</td>\n",
       "      <td>1.400168</td>\n",
       "    </tr>\n",
       "    <tr>\n",
       "      <th>5</th>\n",
       "      <td>12</td>\n",
       "      <td>0.986302</td>\n",
       "      <td>1.400193</td>\n",
       "    </tr>\n",
       "  </tbody>\n",
       "</table>\n",
       "</div>"
      ],
      "text/plain": [
       "   min_samples_leaf     score      time\n",
       "0                 1  0.981662  1.402538\n",
       "1                26  0.975894  1.395857\n",
       "2                14  0.982954  1.397799\n",
       "3                 7  0.979888  1.403746\n",
       "4                10  0.984789  1.400168\n",
       "5                12  0.986302  1.400193"
      ]
     },
     "metadata": {},
     "output_type": "display_data"
    },
    {
     "data": {
      "application/vnd.vegalite.v2+json": {
       "$schema": "https://vega.github.io/schema/vega-lite/v2.6.0.json",
       "config": {
        "view": {
         "height": 300,
         "width": 400
        }
       },
       "data": {
        "name": "data-88b7fb9830aefff0f7fb3c65eca32335"
       },
       "datasets": {
        "data-88b7fb9830aefff0f7fb3c65eca32335": [
         {
          "min_samples_leaf": 1,
          "value": 0.6502696351512748,
          "variable": "score"
         },
         {
          "min_samples_leaf": 26,
          "value": 0.0960773399822825,
          "variable": "score"
         },
         {
          "min_samples_leaf": 14,
          "value": 0.7743461921457446,
          "variable": "score"
         },
         {
          "min_samples_leaf": 7,
          "value": 0.47978806369088867,
          "variable": "score"
         },
         {
          "min_samples_leaf": 10,
          "value": 0.950677146301897,
          "variable": "score"
         },
         {
          "min_samples_leaf": 12,
          "value": 1.0960773399822825,
          "variable": "score"
         },
         {
          "min_samples_leaf": 1,
          "value": 0.9737487614498888,
          "variable": "time"
         },
         {
          "min_samples_leaf": 26,
          "value": 0.12676418412001905,
          "variable": "time"
         },
         {
          "min_samples_leaf": 14,
          "value": 0.3729355519487419,
          "variable": "time"
         },
         {
          "min_samples_leaf": 7,
          "value": 1.126764184120019,
          "variable": "time"
         },
         {
          "min_samples_leaf": 10,
          "value": 0.6732598110027546,
          "variable": "time"
         },
         {
          "min_samples_leaf": 12,
          "value": 0.6763929614558388,
          "variable": "time"
         },
         {
          "min_samples_leaf": 1,
          "value": 0.14661213005659987,
          "variable": "scoreTimeRatio"
         },
         {
          "min_samples_leaf": 26,
          "value": 0.20121329615679434,
          "variable": "scoreTimeRatio"
         },
         {
          "min_samples_leaf": 14,
          "value": 1,
          "variable": "scoreTimeRatio"
         },
         {
          "min_samples_leaf": 7,
          "value": 0,
          "variable": "scoreTimeRatio"
         },
         {
          "min_samples_leaf": 10,
          "value": 0.5975246779692747,
          "variable": "scoreTimeRatio"
         },
         {
          "min_samples_leaf": 12,
          "value": 0.723800220143557,
          "variable": "scoreTimeRatio"
         }
        ]
       },
       "encoding": {
        "color": {
         "field": "variable",
         "type": "nominal"
        },
        "x": {
         "field": "min_samples_leaf",
         "type": "ordinal"
        },
        "y": {
         "field": "value",
         "type": "quantitative"
        }
       },
       "mark": "line",
       "width": 400
      },
      "image/png": "[encoded data removed]",
      "text/plain": [
       "<VegaLite 2 object>\n",
       "\n",
       "If you see this message, it means the renderer has not been properly enabled\n",
       "for the frontend that you are using. For more information, see\n",
       "https://altair-viz.github.io/user_guide/troubleshooting.html\n"
      ]
     },
     "metadata": {},
     "output_type": "display_data"
    }
   ],
   "source": [
    "min_samples_leaf = bgs.compareValsBaseCase(X, \n",
    "                    y, \n",
    "                    getForestAccuracyCV,        \n",
    "                    rfArgs, \n",
    "                    \"min_samples_leaf\", \n",
    "                    0, \n",
    "                    1, \n",
    "                    26)\n",
    "bgs.showTimeScoreChartAndGraph(min_samples_leaf)"
   ]
  },
  {
   "cell_type": "code",
   "execution_count": 10,
   "metadata": {},
   "outputs": [
    {
     "data": {
      "text/html": [
       "<div>\n",
       "<style scoped>\n",
       "    .dataframe tbody tr th:only-of-type {\n",
       "        vertical-align: middle;\n",
       "    }\n",
       "\n",
       "    .dataframe tbody tr th {\n",
       "        vertical-align: top;\n",
       "    }\n",
       "\n",
       "    .dataframe thead th {\n",
       "        text-align: right;\n",
       "    }\n",
       "</style>\n",
       "<table border=\"1\" class=\"dataframe\">\n",
       "  <thead>\n",
       "    <tr style=\"text-align: right;\">\n",
       "      <th></th>\n",
       "      <th>min_samples_leaf</th>\n",
       "      <th>score</th>\n",
       "      <th>time</th>\n",
       "      <th>scoreTimeRatio</th>\n",
       "    </tr>\n",
       "  </thead>\n",
       "  <tbody>\n",
       "    <tr>\n",
       "      <th>0</th>\n",
       "      <td>1</td>\n",
       "      <td>0.751424</td>\n",
       "      <td>1.059590</td>\n",
       "      <td>0.000000</td>\n",
       "    </tr>\n",
       "    <tr>\n",
       "      <th>1</th>\n",
       "      <td>14</td>\n",
       "      <td>1.101193</td>\n",
       "      <td>0.509954</td>\n",
       "      <td>0.070340</td>\n",
       "    </tr>\n",
       "    <tr>\n",
       "      <th>2</th>\n",
       "      <td>7</td>\n",
       "      <td>0.270840</td>\n",
       "      <td>0.088111</td>\n",
       "      <td>0.114695</td>\n",
       "    </tr>\n",
       "    <tr>\n",
       "      <th>3</th>\n",
       "      <td>4</td>\n",
       "      <td>0.604895</td>\n",
       "      <td>0.595379</td>\n",
       "      <td>0.014882</td>\n",
       "    </tr>\n",
       "    <tr>\n",
       "      <th>4</th>\n",
       "      <td>3</td>\n",
       "      <td>1.270840</td>\n",
       "      <td>0.059590</td>\n",
       "      <td>1.000000</td>\n",
       "    </tr>\n",
       "  </tbody>\n",
       "</table>\n",
       "</div>"
      ],
      "text/plain": [
       "   min_samples_leaf     score      time  scoreTimeRatio\n",
       "0                 1  0.751424  1.059590        0.000000\n",
       "1                14  1.101193  0.509954        0.070340\n",
       "2                 7  0.270840  0.088111        0.114695\n",
       "3                 4  0.604895  0.595379        0.014882\n",
       "4                 3  1.270840  0.059590        1.000000"
      ]
     },
     "metadata": {},
     "output_type": "display_data"
    },
    {
     "data": {
      "text/html": [
       "<div>\n",
       "<style scoped>\n",
       "    .dataframe tbody tr th:only-of-type {\n",
       "        vertical-align: middle;\n",
       "    }\n",
       "\n",
       "    .dataframe tbody tr th {\n",
       "        vertical-align: top;\n",
       "    }\n",
       "\n",
       "    .dataframe thead th {\n",
       "        text-align: right;\n",
       "    }\n",
       "</style>\n",
       "<table border=\"1\" class=\"dataframe\">\n",
       "  <thead>\n",
       "    <tr style=\"text-align: right;\">\n",
       "      <th></th>\n",
       "      <th>min_samples_leaf</th>\n",
       "      <th>score</th>\n",
       "      <th>time</th>\n",
       "    </tr>\n",
       "  </thead>\n",
       "  <tbody>\n",
       "    <tr>\n",
       "      <th>0</th>\n",
       "      <td>1</td>\n",
       "      <td>0.981662</td>\n",
       "      <td>1.411024</td>\n",
       "    </tr>\n",
       "    <tr>\n",
       "      <th>1</th>\n",
       "      <td>14</td>\n",
       "      <td>0.982954</td>\n",
       "      <td>1.401800</td>\n",
       "    </tr>\n",
       "    <tr>\n",
       "      <th>2</th>\n",
       "      <td>7</td>\n",
       "      <td>0.979888</td>\n",
       "      <td>1.394721</td>\n",
       "    </tr>\n",
       "    <tr>\n",
       "      <th>3</th>\n",
       "      <td>4</td>\n",
       "      <td>0.981121</td>\n",
       "      <td>1.403234</td>\n",
       "    </tr>\n",
       "    <tr>\n",
       "      <th>4</th>\n",
       "      <td>3</td>\n",
       "      <td>0.983580</td>\n",
       "      <td>1.394242</td>\n",
       "    </tr>\n",
       "  </tbody>\n",
       "</table>\n",
       "</div>"
      ],
      "text/plain": [
       "   min_samples_leaf     score      time\n",
       "0                 1  0.981662  1.411024\n",
       "1                14  0.982954  1.401800\n",
       "2                 7  0.979888  1.394721\n",
       "3                 4  0.981121  1.403234\n",
       "4                 3  0.983580  1.394242"
      ]
     },
     "metadata": {},
     "output_type": "display_data"
    },
    {
     "data": {
      "application/vnd.vegalite.v2+json": {
       "$schema": "https://vega.github.io/schema/vega-lite/v2.6.0.json",
       "config": {
        "view": {
         "height": 300,
         "width": 400
        }
       },
       "data": {
        "name": "data-6c696d14a01d9323b21a6bdb9b888f21"
       },
       "datasets": {
        "data-6c696d14a01d9323b21a6bdb9b888f21": [
         {
          "min_samples_leaf": 1,
          "value": 0.7514235183995772,
          "variable": "score"
         },
         {
          "min_samples_leaf": 14,
          "value": 1.1011925150656028,
          "variable": "score"
         },
         {
          "min_samples_leaf": 7,
          "value": 0.27083983970832926,
          "variable": "score"
         },
         {
          "min_samples_leaf": 4,
          "value": 0.6048954865596975,
          "variable": "score"
         },
         {
          "min_samples_leaf": 3,
          "value": 1.2708398397083294,
          "variable": "score"
         },
         {
          "min_samples_leaf": 1,
          "value": 1.0595896319522067,
          "variable": "time"
         },
         {
          "min_samples_leaf": 14,
          "value": 0.5099539902936561,
          "variable": "time"
         },
         {
          "min_samples_leaf": 7,
          "value": 0.08811051528733355,
          "variable": "time"
         },
         {
          "min_samples_leaf": 4,
          "value": 0.5953789518216308,
          "variable": "time"
         },
         {
          "min_samples_leaf": 3,
          "value": 0.05958963195220673,
          "variable": "time"
         },
         {
          "min_samples_leaf": 1,
          "value": 0,
          "variable": "scoreTimeRatio"
         },
         {
          "min_samples_leaf": 14,
          "value": 0.07034028909586164,
          "variable": "scoreTimeRatio"
         },
         {
          "min_samples_leaf": 7,
          "value": 0.11469462144967676,
          "variable": "scoreTimeRatio"
         },
         {
          "min_samples_leaf": 4,
          "value": 0.014881600619065178,
          "variable": "scoreTimeRatio"
         },
         {
          "min_samples_leaf": 3,
          "value": 1,
          "variable": "scoreTimeRatio"
         }
        ]
       },
       "encoding": {
        "color": {
         "field": "variable",
         "type": "nominal"
        },
        "x": {
         "field": "min_samples_leaf",
         "type": "ordinal"
        },
        "y": {
         "field": "value",
         "type": "quantitative"
        }
       },
       "mark": "line",
       "width": 400
      },
      "image/png": "[encoded data removed]",
      "text/plain": [
       "<VegaLite 2 object>\n",
       "\n",
       "If you see this message, it means the renderer has not been properly enabled\n",
       "for the frontend that you are using. For more information, see\n",
       "https://altair-viz.github.io/user_guide/troubleshooting.html\n"
      ]
     },
     "metadata": {},
     "output_type": "display_data"
    }
   ],
   "source": [
    "min_samples_leaf = bgs.compareValsBaseCase(X, \n",
    "                    y, \n",
    "                    getForestAccuracyCV,        \n",
    "                    rfArgs, \n",
    "                    \"min_samples_leaf\", \n",
    "                    0, \n",
    "                    1, \n",
    "                    14)\n",
    "bgs.showTimeScoreChartAndGraph(min_samples_leaf)"
   ]
  },
  {
   "cell_type": "code",
   "execution_count": null,
   "metadata": {},
   "outputs": [],
   "source": []
  }
 ],
 "metadata": {
  "kernelspec": {
   "display_name": "Python [conda env:py36]",
   "language": "python",
   "name": "conda-env-py36-py"
  },
  "language_info": {
   "codemirror_mode": {
    "name": "ipython",
    "version": 3
   },
   "file_extension": ".py",
   "mimetype": "text/x-python",
   "name": "python",
   "nbconvert_exporter": "python",
   "pygments_lexer": "ipython3",
   "version": "3.6.4"
  }
 },
 "nbformat": 4,
 "nbformat_minor": 2
}
