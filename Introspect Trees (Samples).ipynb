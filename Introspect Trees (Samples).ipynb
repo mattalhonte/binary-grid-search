{
 "cells": [
  {
   "cell_type": "code",
   "execution_count": 1,
   "metadata": {},
   "outputs": [],
   "source": [
    "%load_ext autoreload\n",
    "%autoreload 1\n",
    "import pandas as pd\n",
    "import os\n",
    "import sys\n",
    "scriptpath = \"binarygridsearch.py\"\n",
    "# Do the import\n",
    "sys.path.append(os.path.abspath(scriptpath))\n",
    "# Do the import\n",
    "import binarygridsearch as bgs\n",
    "%aimport binarygridsearch\n",
    "\n",
    "from sklearn.metrics import roc_auc_score\n",
    "from sklearn.ensemble import RandomForestClassifier\n",
    "from sklearn.model_selection import GridSearchCV\n",
    "from sklearn.model_selection import RandomizedSearchCV\n",
    "\n",
    "import numpy as np\n",
    "\n",
    "from sklearn.datasets import load_breast_cancer\n",
    "from sklearn.tree import _tree"
   ]
  },
  {
   "cell_type": "code",
   "execution_count": 2,
   "metadata": {},
   "outputs": [],
   "source": [
    "#From here: https://aysent.github.io/2015/11/08/random-forest-leaf-visualization.html\n",
    "def leaf_samples(tree, node_id = 0):\n",
    "    left_child = tree.children_left[node_id]\n",
    "    right_child = tree.children_right[node_id]\n",
    "    \n",
    "    if left_child == _tree.TREE_LEAF:\n",
    "        samples = np.array([tree.n_node_samples[node_id]])\n",
    "        \n",
    "    else:\n",
    "        \n",
    "        left_samples = leaf_samples(tree, left_child)\n",
    "        right_samples = leaf_samples(tree, right_child)\n",
    "        \n",
    "        samples = np.append(left_samples, right_samples)\n",
    "        \n",
    "    return samples\n"
   ]
  },
  {
   "cell_type": "code",
   "execution_count": 3,
   "metadata": {},
   "outputs": [],
   "source": [
    "def getForestSamples(X, y, kwargs):\n",
    "    clf = RandomForestClassifier(**kwargs)\n",
    "    clf.fit(X, y)\n",
    "    allDepths = [leaf_samples(estimator.tree_) \n",
    "                 for estimator in clf.estimators_]\n",
    "    return {\"min\": np.hstack(allDepths).min(),\n",
    "           \"max\": np.hstack(allDepths).max()}"
   ]
  },
  {
   "cell_type": "code",
   "execution_count": 4,
   "metadata": {},
   "outputs": [],
   "source": [
    "data = load_breast_cancer()\n",
    "X, y = data.data, data.target\n",
    "\n",
    "rfArgs = {\"random_state\": 0,\n",
    "          \"n_jobs\": -1,\n",
    "          \"class_weight\": \"balanced\",\n",
    "         \"n_estimators\": 18,\n",
    "         \"oob_score\": True}"
   ]
  },
  {
   "cell_type": "code",
   "execution_count": 5,
   "metadata": {},
   "outputs": [
    {
     "data": {
      "text/plain": [
       "{'min': 1, 'max': 199}"
      ]
     },
     "execution_count": 5,
     "metadata": {},
     "output_type": "execute_result"
    }
   ],
   "source": [
    "getForestSamples(X, y, rfArgs)"
   ]
  },
  {
   "cell_type": "code",
   "execution_count": 7,
   "metadata": {},
   "outputs": [],
   "source": [
    "def getForestAccuracy(X, y, metric, kwargs):\n",
    "    clf = RandomForestClassifier(**kwargs)\n",
    "    clf.fit(X, y)\n",
    "    y_pred = clf.oob_decision_function_[:, 1]\n",
    "    return metric(y, y_pred)"
   ]
  },
  {
   "cell_type": "code",
   "execution_count": 8,
   "metadata": {},
   "outputs": [
    {
     "data": {
      "text/html": [
       "<div>\n",
       "<style scoped>\n",
       "    .dataframe tbody tr th:only-of-type {\n",
       "        vertical-align: middle;\n",
       "    }\n",
       "\n",
       "    .dataframe tbody tr th {\n",
       "        vertical-align: top;\n",
       "    }\n",
       "\n",
       "    .dataframe thead th {\n",
       "        text-align: right;\n",
       "    }\n",
       "</style>\n",
       "<table border=\"1\" class=\"dataframe\">\n",
       "  <thead>\n",
       "    <tr style=\"text-align: right;\">\n",
       "      <th></th>\n",
       "      <th>min_samples_leaf</th>\n",
       "      <th>score</th>\n",
       "      <th>time</th>\n",
       "      <th>scoreTimeRatio</th>\n",
       "    </tr>\n",
       "  </thead>\n",
       "  <tbody>\n",
       "    <tr>\n",
       "      <th>0</th>\n",
       "      <td>1</td>\n",
       "      <td>0.995407</td>\n",
       "      <td>1.003646</td>\n",
       "      <td>0.003532</td>\n",
       "    </tr>\n",
       "    <tr>\n",
       "      <th>1</th>\n",
       "      <td>199</td>\n",
       "      <td>0.001826</td>\n",
       "      <td>0.082002</td>\n",
       "      <td>0.000000</td>\n",
       "    </tr>\n",
       "    <tr>\n",
       "      <th>2</th>\n",
       "      <td>100</td>\n",
       "      <td>0.990774</td>\n",
       "      <td>0.005891</td>\n",
       "      <td>0.612559</td>\n",
       "    </tr>\n",
       "    <tr>\n",
       "      <th>3</th>\n",
       "      <td>51</td>\n",
       "      <td>0.999124</td>\n",
       "      <td>0.017244</td>\n",
       "      <td>0.210991</td>\n",
       "    </tr>\n",
       "    <tr>\n",
       "      <th>4</th>\n",
       "      <td>26</td>\n",
       "      <td>1.001826</td>\n",
       "      <td>0.010988</td>\n",
       "      <td>0.332059</td>\n",
       "    </tr>\n",
       "    <tr>\n",
       "      <th>5</th>\n",
       "      <td>39</td>\n",
       "      <td>1.000837</td>\n",
       "      <td>0.003646</td>\n",
       "      <td>1.000000</td>\n",
       "    </tr>\n",
       "    <tr>\n",
       "      <th>6</th>\n",
       "      <td>33</td>\n",
       "      <td>1.001175</td>\n",
       "      <td>0.007178</td>\n",
       "      <td>0.508004</td>\n",
       "    </tr>\n",
       "    <tr>\n",
       "      <th>7</th>\n",
       "      <td>30</td>\n",
       "      <td>0.999413</td>\n",
       "      <td>0.068068</td>\n",
       "      <td>0.053406</td>\n",
       "    </tr>\n",
       "    <tr>\n",
       "      <th>8</th>\n",
       "      <td>28</td>\n",
       "      <td>1.000933</td>\n",
       "      <td>0.019286</td>\n",
       "      <td>0.188988</td>\n",
       "    </tr>\n",
       "  </tbody>\n",
       "</table>\n",
       "</div>"
      ],
      "text/plain": [
       "   min_samples_leaf     score      time  scoreTimeRatio\n",
       "0                 1  0.995407  1.003646        0.003532\n",
       "1               199  0.001826  0.082002        0.000000\n",
       "2               100  0.990774  0.005891        0.612559\n",
       "3                51  0.999124  0.017244        0.210991\n",
       "4                26  1.001826  0.010988        0.332059\n",
       "5                39  1.000837  0.003646        1.000000\n",
       "6                33  1.001175  0.007178        0.508004\n",
       "7                30  0.999413  0.068068        0.053406\n",
       "8                28  1.000933  0.019286        0.188988"
      ]
     },
     "metadata": {},
     "output_type": "display_data"
    },
    {
     "data": {
      "text/html": [
       "<div>\n",
       "<style scoped>\n",
       "    .dataframe tbody tr th:only-of-type {\n",
       "        vertical-align: middle;\n",
       "    }\n",
       "\n",
       "    .dataframe tbody tr th {\n",
       "        vertical-align: top;\n",
       "    }\n",
       "\n",
       "    .dataframe thead th {\n",
       "        text-align: right;\n",
       "    }\n",
       "</style>\n",
       "<table border=\"1\" class=\"dataframe\">\n",
       "  <thead>\n",
       "    <tr style=\"text-align: right;\">\n",
       "      <th></th>\n",
       "      <th>min_samples_leaf</th>\n",
       "      <th>score</th>\n",
       "      <th>time</th>\n",
       "    </tr>\n",
       "  </thead>\n",
       "  <tbody>\n",
       "    <tr>\n",
       "      <th>0</th>\n",
       "      <td>1</td>\n",
       "      <td>0.980736</td>\n",
       "      <td>0.405092</td>\n",
       "    </tr>\n",
       "    <tr>\n",
       "      <th>1</th>\n",
       "      <td>199</td>\n",
       "      <td>0.436711</td>\n",
       "      <td>0.152287</td>\n",
       "    </tr>\n",
       "    <tr>\n",
       "      <th>2</th>\n",
       "      <td>100</td>\n",
       "      <td>0.978199</td>\n",
       "      <td>0.131410</td>\n",
       "    </tr>\n",
       "    <tr>\n",
       "      <th>3</th>\n",
       "      <td>51</td>\n",
       "      <td>0.982770</td>\n",
       "      <td>0.134524</td>\n",
       "    </tr>\n",
       "    <tr>\n",
       "      <th>4</th>\n",
       "      <td>26</td>\n",
       "      <td>0.984250</td>\n",
       "      <td>0.132808</td>\n",
       "    </tr>\n",
       "    <tr>\n",
       "      <th>5</th>\n",
       "      <td>39</td>\n",
       "      <td>0.983709</td>\n",
       "      <td>0.130794</td>\n",
       "    </tr>\n",
       "    <tr>\n",
       "      <th>6</th>\n",
       "      <td>33</td>\n",
       "      <td>0.983894</td>\n",
       "      <td>0.131763</td>\n",
       "    </tr>\n",
       "    <tr>\n",
       "      <th>7</th>\n",
       "      <td>30</td>\n",
       "      <td>0.982929</td>\n",
       "      <td>0.148465</td>\n",
       "    </tr>\n",
       "    <tr>\n",
       "      <th>8</th>\n",
       "      <td>28</td>\n",
       "      <td>0.983761</td>\n",
       "      <td>0.135084</td>\n",
       "    </tr>\n",
       "  </tbody>\n",
       "</table>\n",
       "</div>"
      ],
      "text/plain": [
       "   min_samples_leaf     score      time\n",
       "0                 1  0.980736  0.405092\n",
       "1               199  0.436711  0.152287\n",
       "2               100  0.978199  0.131410\n",
       "3                51  0.982770  0.134524\n",
       "4                26  0.984250  0.132808\n",
       "5                39  0.983709  0.130794\n",
       "6                33  0.983894  0.131763\n",
       "7                30  0.982929  0.148465\n",
       "8                28  0.983761  0.135084"
      ]
     },
     "metadata": {},
     "output_type": "display_data"
    },
    {
     "data": {
      "application/vnd.vegalite.v2+json": {
       "$schema": "https://vega.github.io/schema/vega-lite/v2.4.3.json",
       "config": {
        "view": {
         "height": 300,
         "width": 400
        }
       },
       "data": {
        "values": [
         {
          "min_samples_leaf": 1,
          "value": 0.9954074324324325,
          "variable": "score"
         },
         {
          "min_samples_leaf": 199,
          "value": 0.0018263513513513516,
          "variable": "score"
         },
         {
          "min_samples_leaf": 100,
          "value": 0.990774227799228,
          "variable": "score"
         },
         {
          "min_samples_leaf": 51,
          "value": 0.9991236486486487,
          "variable": "score"
         },
         {
          "min_samples_leaf": 26,
          "value": 1.0018263513513515,
          "variable": "score"
         },
         {
          "min_samples_leaf": 39,
          "value": 1.0008369691119692,
          "variable": "score"
         },
         {
          "min_samples_leaf": 33,
          "value": 1.0011748069498072,
          "variable": "score"
         },
         {
          "min_samples_leaf": 30,
          "value": 0.9994132239382241,
          "variable": "score"
         },
         {
          "min_samples_leaf": 28,
          "value": 1.0009334942084944,
          "variable": "score"
         },
         {
          "min_samples_leaf": 1,
          "value": 1.0036456700376684,
          "variable": "time"
         },
         {
          "min_samples_leaf": 199,
          "value": 0.08200205616460542,
          "variable": "time"
         },
         {
          "min_samples_leaf": 100,
          "value": 0.005891402785149423,
          "variable": "time"
         },
         {
          "min_samples_leaf": 51,
          "value": 0.017244019279483158,
          "variable": "time"
         },
         {
          "min_samples_leaf": 26,
          "value": 0.010988049499033908,
          "variable": "time"
         },
         {
          "min_samples_leaf": 39,
          "value": 0.003645670037668441,
          "variable": "time"
         },
         {
          "min_samples_leaf": 33,
          "value": 0.007178324313072047,
          "variable": "time"
         },
         {
          "min_samples_leaf": 30,
          "value": 0.06806830527851415,
          "variable": "time"
         },
         {
          "min_samples_leaf": 28,
          "value": 0.019285594508685874,
          "variable": "time"
         },
         {
          "min_samples_leaf": 1,
          "value": 0.0035318795072990143,
          "variable": "scoreTimeRatio"
         },
         {
          "min_samples_leaf": 199,
          "value": 0,
          "variable": "scoreTimeRatio"
         },
         {
          "min_samples_leaf": 100,
          "value": 0.6125587117207241,
          "variable": "scoreTimeRatio"
         },
         {
          "min_samples_leaf": 51,
          "value": 0.21099055801136357,
          "variable": "scoreTimeRatio"
         },
         {
          "min_samples_leaf": 26,
          "value": 0.3320588017379231,
          "variable": "scoreTimeRatio"
         },
         {
          "min_samples_leaf": 39,
          "value": 1,
          "variable": "scoreTimeRatio"
         },
         {
          "min_samples_leaf": 33,
          "value": 0.5080035355699363,
          "variable": "scoreTimeRatio"
         },
         {
          "min_samples_leaf": 30,
          "value": 0.05340600885815673,
          "variable": "scoreTimeRatio"
         },
         {
          "min_samples_leaf": 28,
          "value": 0.18898835199983302,
          "variable": "scoreTimeRatio"
         }
        ]
       },
       "encoding": {
        "color": {
         "field": "variable",
         "type": "nominal"
        },
        "x": {
         "field": "min_samples_leaf",
         "type": "ordinal"
        },
        "y": {
         "field": "value",
         "type": "quantitative"
        }
       },
       "mark": "line",
       "width": 400
      },
      "image/png": "[encoded data removed]",
      "text/plain": [
       "<VegaLite 2 object>\n",
       "\n",
       "If you see this message, it means the renderer has not been properly enabled\n",
       "for the frontend that you are using. For more information, see\n",
       "https://altair-viz.github.io/user_guide/troubleshooting.html\n"
      ]
     },
     "metadata": {},
     "output_type": "display_data"
    }
   ],
   "source": [
    "min_samples_leaf = bgs.compareValsBaseCase(X, \n",
    "                    y, \n",
    "                    getForestAccuracy,        \n",
    "                    rfArgs, \n",
    "                    roc_auc_score, \n",
    "                    \"min_samples_leaf\", \n",
    "                    0, \n",
    "                    1, \n",
    "                    199)\n",
    "bgs.showTimeScoreChartAndGraph(min_samples_leaf)"
   ]
  },
  {
   "cell_type": "code",
   "execution_count": 9,
   "metadata": {},
   "outputs": [
    {
     "data": {
      "text/html": [
       "<div>\n",
       "<style scoped>\n",
       "    .dataframe tbody tr th:only-of-type {\n",
       "        vertical-align: middle;\n",
       "    }\n",
       "\n",
       "    .dataframe tbody tr th {\n",
       "        vertical-align: top;\n",
       "    }\n",
       "\n",
       "    .dataframe thead th {\n",
       "        text-align: right;\n",
       "    }\n",
       "</style>\n",
       "<table border=\"1\" class=\"dataframe\">\n",
       "  <thead>\n",
       "    <tr style=\"text-align: right;\">\n",
       "      <th></th>\n",
       "      <th>min_samples_leaf</th>\n",
       "      <th>score</th>\n",
       "      <th>time</th>\n",
       "      <th>scoreTimeRatio</th>\n",
       "    </tr>\n",
       "  </thead>\n",
       "  <tbody>\n",
       "    <tr>\n",
       "      <th>0</th>\n",
       "      <td>1</td>\n",
       "      <td>0.170459</td>\n",
       "      <td>1.046997</td>\n",
       "      <td>0.000000</td>\n",
       "    </tr>\n",
       "    <tr>\n",
       "      <th>1</th>\n",
       "      <td>26</td>\n",
       "      <td>0.769559</td>\n",
       "      <td>0.046997</td>\n",
       "      <td>1.000000</td>\n",
       "    </tr>\n",
       "    <tr>\n",
       "      <th>2</th>\n",
       "      <td>13</td>\n",
       "      <td>1.170459</td>\n",
       "      <td>0.416674</td>\n",
       "      <td>0.163229</td>\n",
       "    </tr>\n",
       "    <tr>\n",
       "      <th>3</th>\n",
       "      <td>7</td>\n",
       "      <td>0.491405</td>\n",
       "      <td>0.965598</td>\n",
       "      <td>0.021349</td>\n",
       "    </tr>\n",
       "    <tr>\n",
       "      <th>4</th>\n",
       "      <td>10</td>\n",
       "      <td>0.539829</td>\n",
       "      <td>0.137043</td>\n",
       "      <td>0.232935</td>\n",
       "    </tr>\n",
       "    <tr>\n",
       "      <th>5</th>\n",
       "      <td>11</td>\n",
       "      <td>0.806721</td>\n",
       "      <td>0.302566</td>\n",
       "      <td>0.154421</td>\n",
       "    </tr>\n",
       "  </tbody>\n",
       "</table>\n",
       "</div>"
      ],
      "text/plain": [
       "   min_samples_leaf     score      time  scoreTimeRatio\n",
       "0                 1  0.170459  1.046997        0.000000\n",
       "1                26  0.769559  0.046997        1.000000\n",
       "2                13  1.170459  0.416674        0.163229\n",
       "3                 7  0.491405  0.965598        0.021349\n",
       "4                10  0.539829  0.137043        0.232935\n",
       "5                11  0.806721  0.302566        0.154421"
      ]
     },
     "metadata": {},
     "output_type": "display_data"
    },
    {
     "data": {
      "text/html": [
       "<div>\n",
       "<style scoped>\n",
       "    .dataframe tbody tr th:only-of-type {\n",
       "        vertical-align: middle;\n",
       "    }\n",
       "\n",
       "    .dataframe tbody tr th {\n",
       "        vertical-align: top;\n",
       "    }\n",
       "\n",
       "    .dataframe thead th {\n",
       "        text-align: right;\n",
       "    }\n",
       "</style>\n",
       "<table border=\"1\" class=\"dataframe\">\n",
       "  <thead>\n",
       "    <tr style=\"text-align: right;\">\n",
       "      <th></th>\n",
       "      <th>min_samples_leaf</th>\n",
       "      <th>score</th>\n",
       "      <th>time</th>\n",
       "    </tr>\n",
       "  </thead>\n",
       "  <tbody>\n",
       "    <tr>\n",
       "      <th>0</th>\n",
       "      <td>1</td>\n",
       "      <td>0.980736</td>\n",
       "      <td>0.155192</td>\n",
       "    </tr>\n",
       "    <tr>\n",
       "      <th>1</th>\n",
       "      <td>26</td>\n",
       "      <td>0.984250</td>\n",
       "      <td>0.133914</td>\n",
       "    </tr>\n",
       "    <tr>\n",
       "      <th>2</th>\n",
       "      <td>13</td>\n",
       "      <td>0.986602</td>\n",
       "      <td>0.141780</td>\n",
       "    </tr>\n",
       "    <tr>\n",
       "      <th>3</th>\n",
       "      <td>7</td>\n",
       "      <td>0.982619</td>\n",
       "      <td>0.153460</td>\n",
       "    </tr>\n",
       "    <tr>\n",
       "      <th>4</th>\n",
       "      <td>10</td>\n",
       "      <td>0.982903</td>\n",
       "      <td>0.135830</td>\n",
       "    </tr>\n",
       "    <tr>\n",
       "      <th>5</th>\n",
       "      <td>11</td>\n",
       "      <td>0.984468</td>\n",
       "      <td>0.139352</td>\n",
       "    </tr>\n",
       "  </tbody>\n",
       "</table>\n",
       "</div>"
      ],
      "text/plain": [
       "   min_samples_leaf     score      time\n",
       "0                 1  0.980736  0.155192\n",
       "1                26  0.984250  0.133914\n",
       "2                13  0.986602  0.141780\n",
       "3                 7  0.982619  0.153460\n",
       "4                10  0.982903  0.135830\n",
       "5                11  0.984468  0.139352"
      ]
     },
     "metadata": {},
     "output_type": "display_data"
    },
    {
     "data": {
      "application/vnd.vegalite.v2+json": {
       "$schema": "https://vega.github.io/schema/vega-lite/v2.4.3.json",
       "config": {
        "view": {
         "height": 300,
         "width": 400
        }
       },
       "data": {
        "values": [
         {
          "min_samples_leaf": 1,
          "value": 0.17045945945945934,
          "variable": "score"
         },
         {
          "min_samples_leaf": 26,
          "value": 0.7695585585585523,
          "variable": "score"
         },
         {
          "min_samples_leaf": 13,
          "value": 1.1704594594594593,
          "variable": "score"
         },
         {
          "min_samples_leaf": 7,
          "value": 0.49140540540540606,
          "variable": "score"
         },
         {
          "min_samples_leaf": 10,
          "value": 0.5398288288288282,
          "variable": "score"
         },
         {
          "min_samples_leaf": 11,
          "value": 0.8067207207207122,
          "variable": "score"
         },
         {
          "min_samples_leaf": 1,
          "value": 1.0469968982043525,
          "variable": "time"
         },
         {
          "min_samples_leaf": 26,
          "value": 0.04699689820435234,
          "variable": "time"
         },
         {
          "min_samples_leaf": 13,
          "value": 0.41667449947611124,
          "variable": "time"
         },
         {
          "min_samples_leaf": 7,
          "value": 0.965598270484837,
          "variable": "time"
         },
         {
          "min_samples_leaf": 10,
          "value": 0.1370429552143793,
          "variable": "time"
         },
         {
          "min_samples_leaf": 11,
          "value": 0.30256603064620763,
          "variable": "time"
         },
         {
          "min_samples_leaf": 1,
          "value": 0,
          "variable": "scoreTimeRatio"
         },
         {
          "min_samples_leaf": 26,
          "value": 1,
          "variable": "scoreTimeRatio"
         },
         {
          "min_samples_leaf": 13,
          "value": 0.16322877615891193,
          "variable": "scoreTimeRatio"
         },
         {
          "min_samples_leaf": 7,
          "value": 0.02134887180754144,
          "variable": "scoreTimeRatio"
         },
         {
          "min_samples_leaf": 10,
          "value": 0.2329352446437587,
          "variable": "scoreTimeRatio"
         },
         {
          "min_samples_leaf": 11,
          "value": 0.15442123974558647,
          "variable": "scoreTimeRatio"
         }
        ]
       },
       "encoding": {
        "color": {
         "field": "variable",
         "type": "nominal"
        },
        "x": {
         "field": "min_samples_leaf",
         "type": "ordinal"
        },
        "y": {
         "field": "value",
         "type": "quantitative"
        }
       },
       "mark": "line",
       "width": 400
      },
      "image/png": "[encoded data removed]",
      "text/plain": [
       "<VegaLite 2 object>\n",
       "\n",
       "If you see this message, it means the renderer has not been properly enabled\n",
       "for the frontend that you are using. For more information, see\n",
       "https://altair-viz.github.io/user_guide/troubleshooting.html\n"
      ]
     },
     "metadata": {},
     "output_type": "display_data"
    }
   ],
   "source": [
    "min_samples_leaf = bgs.compareValsBaseCase(X, \n",
    "                    y, \n",
    "                    getForestAccuracy,        \n",
    "                    rfArgs, \n",
    "                    roc_auc_score, \n",
    "                    \"min_samples_leaf\", \n",
    "                    0, \n",
    "                    1, \n",
    "                    26)\n",
    "bgs.showTimeScoreChartAndGraph(min_samples_leaf)"
   ]
  },
  {
   "cell_type": "code",
   "execution_count": null,
   "metadata": {},
   "outputs": [],
   "source": []
  }
 ],
 "metadata": {
  "kernelspec": {
   "display_name": "Python [conda env:py36]",
   "language": "python",
   "name": "conda-env-py36-py"
  },
  "language_info": {
   "codemirror_mode": {
    "name": "ipython",
    "version": 3
   },
   "file_extension": ".py",
   "mimetype": "text/x-python",
   "name": "python",
   "nbconvert_exporter": "python",
   "pygments_lexer": "ipython3",
   "version": "3.6.5"
  }
 },
 "nbformat": 4,
 "nbformat_minor": 2
}
